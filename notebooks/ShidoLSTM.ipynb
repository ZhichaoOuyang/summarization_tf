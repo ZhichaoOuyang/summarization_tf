{
 "cells": [
  {
   "cell_type": "markdown",
   "metadata": {},
   "source": [
    "`NstepRNN`系はcudnnを使っているため中断すると確実にカーネルが落ちる"
   ]
  },
  {
   "cell_type": "code",
   "execution_count": 1,
   "metadata": {
    "collapsed": true
   },
   "outputs": [],
   "source": [
    "%matplotlib inline\n",
    "import sys\n",
    "sys.path.append(\"../\")\n",
    "import pickle\n",
    "import numpy as np\n",
    "from tqdm import tqdm_notebook\n",
    "from utils import *\n",
    "from prefetch_generator import BackgroundGenerator\n",
    "from multiprocessing_generator import ParallelGenerator\n",
    "from matplotlib import pylab as plt\n",
    "from IPython.display import clear_output\n",
    "from chainer import training, iterators\n",
    "from chainer import serializers\n",
    "import os\n",
    "from joblib import Parallel, delayed\n",
    "from tqdm import tqdm\n",
    "import nltk\n",
    "from glob import glob\n",
    "from joblib import Parallel, delayed\n",
    "from collections import Counter\n",
    "os.environ[\"CHAINER_TYPE_CHECK\"] = \"0\""
   ]
  },
  {
   "cell_type": "code",
   "execution_count": 2,
   "metadata": {
    "collapsed": true
   },
   "outputs": [],
   "source": [
    "trn_data = read_pickle(\"../dataset/nl/train.pkl\")\n",
    "vld_data = read_pickle(\"../dataset/nl/valid.pkl\")\n",
    "tst_data = read_pickle(\"../dataset/nl/test.pkl\")\n",
    "code_i2w = read_pickle(\"../dataset/code_i2w.pkl\")\n",
    "code_w2i = read_pickle(\"../dataset/code_w2i.pkl\")\n",
    "nl_i2w = read_pickle(\"../dataset/nl_i2w.pkl\")\n",
    "nl_w2i = read_pickle(\"../dataset/nl_w2i.pkl\")"
   ]
  },
  {
   "cell_type": "code",
   "execution_count": 3,
   "metadata": {
    "collapsed": true
   },
   "outputs": [],
   "source": [
    "trn_x, trn_y_raw = zip(*trn_data.items())\n",
    "vld_x, vld_y_raw = zip(*vld_data.items())\n",
    "tst_x, tst_y_raw = zip(*tst_data.items())"
   ]
  },
  {
   "cell_type": "code",
   "execution_count": 4,
   "metadata": {
    "collapsed": true
   },
   "outputs": [],
   "source": [
    "trn_y = [[nl_w2i[t] if t in nl_w2i.keys() else nl_w2i[\"<UNK>\"] for t in l] for l in trn_y_raw]\n",
    "vld_y = [[nl_w2i[t] if t in nl_w2i.keys() else nl_w2i[\"<UNK>\"] for t in l] for l in vld_y_raw]\n",
    "tst_y = [[nl_w2i[t] if t in nl_w2i.keys() else nl_w2i[\"<UNK>\"] for t in l] for l in tst_y_raw]"
   ]
  },
  {
   "cell_type": "code",
   "execution_count": 5,
   "metadata": {
    "collapsed": true
   },
   "outputs": [],
   "source": [
    "# model defining\n",
    "from layers import *\n",
    "import chainer\n",
    "from chainer import links as L\n",
    "from chainer import functions as F\n",
    "from chainer import Chain\n",
    "from chainer import optimizers\n",
    "from chainer import Variable\n",
    "from chainer import cuda\n",
    "from chainer.cuda import to_gpu, to_cpu\n",
    "from chainer import initializers\n",
    "from chainer.dataset import to_device\n",
    "import cupy as xp\n",
    "from layers import TreeEmbeddingLayer, ShidoTreeLSTM\n",
    "\n",
    "class ChildSumLSTMLayer(Chain):\n",
    "    def __init__(self, dim_in, dim_out, dropout=0.0):\n",
    "        super(ChildSumLSTMLayer, self).__init__()\n",
    "        self.dim_in = dim_in\n",
    "        self.dim_out = dim_out\n",
    "        self.dropout = dropout\n",
    "        with self.init_scope():\n",
    "            self.U_f = L.Linear(dim_out, dim_out, nobias=True)\n",
    "            self.U_iuo = L.Linear(dim_out, dim_out * 3, nobias=True)\n",
    "            self.W = L.Linear(dim_in, dim_out * 4)\n",
    "            self.h_init = chainer.Parameter(chainer.initializers.HeNormal(), (1, dim_out))\n",
    "\n",
    "    def get_child_c_tensor(self, node):\n",
    "        '''return: [children, dim_out]'''\n",
    "        if node.children == []:\n",
    "            return self.xp.zeros((1, self.dim_out), \"float32\")\n",
    "        else:\n",
    "            return F.stack([child.c for child in node.children])\n",
    "\n",
    "    def get_child_h_tensor(self, node):\n",
    "        '''return: [children, dim_out]'''\n",
    "        if node.children == []:\n",
    "            return self.h_init\n",
    "        else:\n",
    "            return F.stack([child.h for child in node.children])\n",
    "\n",
    "    def __call__(self, roots):\n",
    "        depthes = [x[1] for x in sorted(depth_split_batch(\n",
    "            roots).items(), key=lambda x:-x[0])]  # list of list of Nodes\n",
    "        for nodes in depthes:\n",
    "            self.apply(nodes)\n",
    "        return depthes[-1]\n",
    "\n",
    "    def apply(self, nodes):\n",
    "        child_hs = [self.get_child_h_tensor(node) for node in nodes]  # (node, [child, dim_out])\n",
    "        child_cs = [self.get_child_c_tensor(node) for node in nodes]  # (node, [child, dim_out])\n",
    "\n",
    "        h_sum = F.stack([F.sum(h, 0) for h in child_hs])  # [nodes, dim_out]\n",
    "        x = F.stack([node.h for node in nodes])  # [nodes, dim_in]\n",
    "        W_x = self.W(x)  # [nodes, dim_out * 4]\n",
    "        W_f_x = W_x[:, :self.dim_out * 1]  # [nodes, dim_out]\n",
    "        W_i_x = W_x[:, self.dim_out * 1:self.dim_out * 2]\n",
    "        W_u_x = W_x[:, self.dim_out * 2:self.dim_out * 3]\n",
    "        W_o_x = W_x[:, self.dim_out * 3:]\n",
    "\n",
    "        branch_f_k = sequence_apply(self.U_f, child_hs)  # (node, [child, dim_out])\n",
    "        branch_f_k = [F.sigmoid(F.broadcast_to(W_f_x[e:e + 1], h.shape) + h)\n",
    "                      for e, h in enumerate(branch_f_k)]\n",
    "        branch_f = F.stack([F.sum(f_k * c, 0)\n",
    "                            for f_k, c in zip(branch_f_k, child_cs)])  # [node, dim_out]\n",
    "\n",
    "        branch_iuo = self.U_iuo(h_sum)  # [nodes, dim_out * 3]\n",
    "        branch_i = F.sigmoid(branch_iuo[:, :self.dim_out * 1] + W_i_x)   # [nodes, dim_out]\n",
    "        branch_u = F.tanh(branch_iuo[:, self.dim_out * 1:self.dim_out * 2] + W_u_x)\n",
    "        branch_o = F.sigmoid(branch_iuo[:, self.dim_out * 2:] + W_o_x)\n",
    "\n",
    "        new_c = branch_i * branch_u + branch_f  # [node, dim_out]\n",
    "        new_h = branch_o * F.tanh(new_c)  # [node, dim_out]\n",
    "\n",
    "        for n, c, h in zip(nodes, new_c, new_h):\n",
    "            n.c = c\n",
    "            n.h = h\n",
    "            \n",
    "class Model(Chain):\n",
    "\n",
    "    def __init__(self, dim_E, dim_F, dim_rep, in_vocab, out_vocab):\n",
    "        n_layers = 1\n",
    "        super(Model, self).__init__(\n",
    "            E = TreeEmbeddingLayer(dim_E, len(code_i2w)),\n",
    "            F = L.EmbedID(len(nl_i2w), dim_F, initializers.HeNormal(), -1),\n",
    "            encoder = ChildSumLSTMLayer(dim_E, dim_rep),\n",
    "            decoder = LSTM_Attention_Decoder(n_layers, dim_F, dim_rep, 0.0),\n",
    "            W = L.Linear(dim_rep, len(nl_i2w))\n",
    "        )\n",
    "\n",
    "    def encode(self, trees):\n",
    "        \"\"\"\n",
    "        labels, relations, coefs: array\n",
    "        texts: list of list\n",
    "        \"\"\"\n",
    "        # Encode\n",
    "        trees = [self.E(tree) for tree in trees]\n",
    "        trees = self.encoder(trees)\n",
    "        \n",
    "        hx = F.expand_dims(F.stack([tree.h for tree in trees]), 0)\n",
    "        cx = F.expand_dims(F.stack([tree.c for tree in trees]), 0)\n",
    "        ys = [F.stack([node.h for node in traverse(tree)]) for tree in trees]\n",
    "        \n",
    "        return(hx, cx, ys)\n",
    "    \n",
    "    def get_loss(self, seq, texts):\n",
    "\n",
    "        hx, cx, ys = self.encode(seq)\n",
    "        \n",
    "        # Decode       \n",
    "        ys_in = [text[:-1] for text in texts]\n",
    "        ys_out = [text[1:] for text in texts]\n",
    "        \n",
    "        texts_embed = sequence_embed(self.F, ys_in)\n",
    "        batch = len(texts)\n",
    "        \n",
    "        _, _, os = self.decoder(hx, cx, ys, texts_embed) # cx: (n_layers, batch, dim) <- WTF\n",
    "        \n",
    "        # Loss\n",
    "        concat_os = F.concat(os, axis=0)\n",
    "        concat_ys_out = F.concat(ys_out, axis=0)\n",
    "        loss = F.sum(F.softmax_cross_entropy(self.W(concat_os), concat_ys_out, reduce='no')) / batch\n",
    "        \n",
    "        return(loss)\n",
    "    \n",
    "    def translate(self, seq, max_length=100):\n",
    "        with chainer.no_backprop_mode(), chainer.using_config('train', False):\n",
    "            batch = len(seq)\n",
    "            hx, cx, y_enc = self.encode(seq)\n",
    "            ys = self.xp.full(batch, 0, 'i')\n",
    "            h, c = hx, cx\n",
    "            result = []\n",
    "            for i in range(max_length):\n",
    "                eys = self.F(ys)\n",
    "                eys = F.split_axis(eys, batch, 0)\n",
    "                h, c, ys = self.decoder(h, c, y_enc, eys)\n",
    "                cys = F.concat(ys, axis=0)\n",
    "                wy = self.W(cys)\n",
    "                ys = self.xp.argmax(wy.data, axis=1).astype('i')\n",
    "                result.append(ys)\n",
    "            result = cuda.to_cpu(self.xp.concatenate([self.xp.expand_dims(x, 0) for x in result]).T)\n",
    "            # Remove EOS taggs\n",
    "            outs = []\n",
    "            for y in result:\n",
    "                inds = numpy.argwhere(y == 0)\n",
    "                if len(inds) > 0:\n",
    "                    y = y[:inds[0, 0]]\n",
    "                outs.append(y)\n",
    "            return(outs)\n",
    "    \n",
    "    def beamseach(self, seq, width=3, max_length=100):\n",
    "        with chainer.no_backprop_mode(), chainer.using_config('train', False):\n",
    "            h, c, y_enc = self.encode([seq])\n",
    "            ys = self.xp.full(1, 0, 'i')\n",
    "            hyps = [(h, c, ys, 0.0, [])]\n",
    "            for i in range(max_length):\n",
    "                new_hyps = []\n",
    "                for h, c, ys, prob, result in hyps:\n",
    "                    eys = self.F(ys)\n",
    "                    eys = F.split_axis(eys.data, eys.shape[0], 0)\n",
    "                    h, c, ys = self.decoder(h, c, y_enc, eys)\n",
    "                    cys = F.concat(ys, 0).data\n",
    "                    output_prob = F.softmax(self.W(cys)).data\n",
    "                    log_prob = self.xp.log(output_prob)[0]\n",
    "                    log_prob[self.xp.isnan(log_prob)] = - self.xp.float32(\"inf\")\n",
    "                    ys_order = self.xp.argsort(log_prob).astype('i')[::-1]\n",
    "                    for y in ys_order[:5]:\n",
    "                        if len(result) > 0 and result[-1] == 0:\n",
    "                            new_hyps.append((h.data, c.data, self.xp.expand_dims(y, -1), prob, result))\n",
    "                        else:\n",
    "                            new_hyps.append(\n",
    "                                (h.data, c.data,self.xp.expand_dims(y, -1),\n",
    "                                (prob + log_prob[y]) / 6 * (5 + len(result)), result + [y.tolist()]))\n",
    "                new_hyps = sorted(new_hyps, key=lambda x: x[3], reverse=True)[:5]\n",
    "                hyps = new_hyps\n",
    "            y = numpy.array(hyps[0][4])\n",
    "            inds = numpy.argwhere(y == 0)\n",
    "            if len(inds) > 0:\n",
    "                y = y[:inds[0, 0]]\n",
    "            return y\n",
    "    \n",
    "    def beamseach_batch(self, seq, width=3, max_length=100):\n",
    "        return [self.beamseach(s, width, max_length) for s in seq]"
   ]
  },
  {
   "cell_type": "code",
   "execution_count": 6,
   "metadata": {},
   "outputs": [],
   "source": [
    "# setting model\n",
    "model = Model(512, 512, 512, len(code_w2i), len(nl_w2i))\n",
    "model.to_gpu(0)\n",
    "epochs = 20\n",
    "batch_size = 10\n",
    "optimizer = optimizers.Adam()\n",
    "optimizer.setup(model)\n",
    "history = {\"loss\":[], \"loss_val\":[], \"bleu\": []}"
   ]
  },
  {
   "cell_type": "code",
   "execution_count": 7,
   "metadata": {},
   "outputs": [],
   "source": [
    "# Setting Data Generator\n",
    "def mygen(X, Y, batch_size, code_dic, nl_dic, train=True):\n",
    "    epoch = 0\n",
    "    while 1:\n",
    "        if train:\n",
    "            np.random.seed(epoch)\n",
    "            newindex = list(np.random.permutation(len(X)))\n",
    "            X = [X[i] for i in newindex]\n",
    "            Y = [Y[i] for i in newindex]\n",
    "        for i in range(0, len(X), batch_size):\n",
    "            x = X[i:i+batch_size]\n",
    "            y = Y[i:i+batch_size]\n",
    "            x = [consult_tree(read_pickle(n), code_dic) for n in x]\n",
    "            y = [np.array(yy, \"int32\") for yy in y]\n",
    "            yield(x, y)\n",
    "        epoch += 1\n",
    "\n",
    "trn_gen = BackgroundGenerator(mygen(trn_x, trn_y, batch_size, code_w2i, nl_w2i, train=True), max_prefetch=2)\n",
    "vld_gen = BackgroundGenerator(mygen(vld_x, vld_y, batch_size, code_w2i, nl_w2i, train=False), max_prefetch=2)\n",
    "tst_gen = BackgroundGenerator(mygen(tst_x, tst_y, batch_size, code_w2i, nl_w2i, train=False), max_prefetch=2)"
   ]
  },
  {
   "cell_type": "code",
   "execution_count": 8,
   "metadata": {
    "scrolled": true
   },
   "outputs": [
    {
     "data": {
      "application/vnd.jupyter.widget-view+json": {
       "model_id": "3d974a3f26164c6a95f0e17463d62a98",
       "version_major": 2,
       "version_minor": 0
      },
      "text/plain": [
       "A Jupyter Widget"
      ]
     },
     "metadata": {},
     "output_type": "display_data"
    },
    {
     "name": "stdout",
     "output_type": "stream",
     "text": [
      "em\n"
     ]
    },
    {
     "name": "stderr",
     "output_type": "stream",
     "text": [
      "  4%|▍         | 1/26 [00:00<00:03,  7.24it/s]"
     ]
    },
    {
     "name": "stdout",
     "output_type": "stream",
     "text": [
      "enc\n"
     ]
    },
    {
     "name": "stderr",
     "output_type": "stream",
     "text": [
      "100%|██████████| 26/26 [00:01<00:00, 15.07it/s]\n"
     ]
    },
    {
     "name": "stdout",
     "output_type": "stream",
     "text": [
      "gomi\n",
      "dec\n",
      "loss\n",
      "cleargrads\n",
      "backward\n"
     ]
    },
    {
     "name": "stderr",
     "output_type": "stream",
     "text": [
      "\r",
      "  0%|          | 0/14 [00:00<?, ?it/s]"
     ]
    },
    {
     "name": "stdout",
     "output_type": "stream",
     "text": [
      "update\n",
      "end\n",
      "em\n",
      "enc\n"
     ]
    },
    {
     "name": "stderr",
     "output_type": "stream",
     "text": [
      "100%|██████████| 14/14 [00:00<00:00, 31.37it/s]\n"
     ]
    },
    {
     "name": "stdout",
     "output_type": "stream",
     "text": [
      "gomi\n",
      "dec\n",
      "loss\n",
      "cleargrads\n",
      "backward\n",
      "update\n",
      "end\n",
      "em\n"
     ]
    },
    {
     "name": "stderr",
     "output_type": "stream",
     "text": [
      " 41%|████      | 7/17 [00:00<00:00, 50.97it/s]"
     ]
    },
    {
     "name": "stdout",
     "output_type": "stream",
     "text": [
      "enc\n"
     ]
    },
    {
     "name": "stderr",
     "output_type": "stream",
     "text": [
      "100%|██████████| 17/17 [00:00<00:00, 23.62it/s]\n"
     ]
    },
    {
     "name": "stdout",
     "output_type": "stream",
     "text": [
      "gomi\n",
      "dec\n",
      "loss\n",
      "cleargrads\n",
      "backward\n"
     ]
    },
    {
     "name": "stderr",
     "output_type": "stream",
     "text": [
      " 33%|███▎      | 8/24 [00:00<00:00, 72.79it/s]"
     ]
    },
    {
     "name": "stdout",
     "output_type": "stream",
     "text": [
      "update\n",
      "end\n",
      "em\n",
      "enc\n"
     ]
    },
    {
     "name": "stderr",
     "output_type": "stream",
     "text": [
      "100%|██████████| 24/24 [00:00<00:00, 33.41it/s]\n"
     ]
    },
    {
     "name": "stdout",
     "output_type": "stream",
     "text": [
      "gomi\n",
      "dec\n",
      "loss\n",
      "cleargrads\n",
      "backward\n"
     ]
    },
    {
     "name": "stderr",
     "output_type": "stream",
     "text": [
      " 45%|████▌     | 10/22 [00:00<00:00, 98.69it/s]"
     ]
    },
    {
     "name": "stdout",
     "output_type": "stream",
     "text": [
      "update\n",
      "end\n",
      "em\n",
      "enc\n"
     ]
    },
    {
     "name": "stderr",
     "output_type": "stream",
     "text": [
      "100%|██████████| 22/22 [00:00<00:00, 29.46it/s]\n"
     ]
    },
    {
     "name": "stdout",
     "output_type": "stream",
     "text": [
      "gomi\n",
      "dec\n",
      "loss\n",
      "cleargrads\n",
      "backward\n"
     ]
    },
    {
     "name": "stderr",
     "output_type": "stream",
     "text": [
      " 50%|█████     | 11/22 [00:00<00:00, 92.98it/s]"
     ]
    },
    {
     "name": "stdout",
     "output_type": "stream",
     "text": [
      "update\n",
      "end\n",
      "em\n",
      "enc\n"
     ]
    },
    {
     "name": "stderr",
     "output_type": "stream",
     "text": [
      "100%|██████████| 22/22 [00:00<00:00, 33.01it/s]\n"
     ]
    },
    {
     "name": "stdout",
     "output_type": "stream",
     "text": [
      "gomi\n",
      "dec\n",
      "loss\n",
      "cleargrads\n",
      "backward\n"
     ]
    },
    {
     "name": "stderr",
     "output_type": "stream",
     "text": [
      " 46%|████▌     | 11/24 [00:00<00:00, 97.60it/s]"
     ]
    },
    {
     "name": "stdout",
     "output_type": "stream",
     "text": [
      "update\n",
      "end\n",
      "em\n",
      "enc\n"
     ]
    },
    {
     "name": "stderr",
     "output_type": "stream",
     "text": [
      "100%|██████████| 24/24 [00:00<00:00, 38.14it/s]\n"
     ]
    },
    {
     "name": "stdout",
     "output_type": "stream",
     "text": [
      "gomi\n",
      "dec\n",
      "loss\n",
      "cleargrads\n",
      "backward\n"
     ]
    },
    {
     "name": "stderr",
     "output_type": "stream",
     "text": [
      "\r",
      "  0%|          | 0/17 [00:00<?, ?it/s]"
     ]
    },
    {
     "name": "stdout",
     "output_type": "stream",
     "text": [
      "update\n",
      "end\n",
      "em\n",
      "enc\n"
     ]
    },
    {
     "name": "stderr",
     "output_type": "stream",
     "text": [
      "100%|██████████| 17/17 [00:00<00:00, 33.12it/s]\n"
     ]
    },
    {
     "name": "stdout",
     "output_type": "stream",
     "text": [
      "gomi\n",
      "dec\n",
      "loss\n",
      "cleargrads\n",
      "backward\n"
     ]
    },
    {
     "name": "stderr",
     "output_type": "stream",
     "text": [
      "\r",
      "  0%|          | 0/35 [00:00<?, ?it/s]"
     ]
    },
    {
     "name": "stdout",
     "output_type": "stream",
     "text": [
      "update\n",
      "end\n",
      "em\n",
      "enc\n"
     ]
    },
    {
     "name": "stderr",
     "output_type": "stream",
     "text": [
      "100%|██████████| 35/35 [00:02<00:00, 17.37it/s]\n"
     ]
    },
    {
     "name": "stdout",
     "output_type": "stream",
     "text": [
      "gomi\n",
      "dec\n",
      "loss\n",
      "cleargrads\n",
      "backward\n"
     ]
    },
    {
     "name": "stderr",
     "output_type": "stream",
     "text": [
      " 47%|████▋     | 8/17 [00:00<00:00, 68.84it/s]"
     ]
    },
    {
     "name": "stdout",
     "output_type": "stream",
     "text": [
      "update\n",
      "end\n",
      "em\n",
      "enc\n"
     ]
    },
    {
     "name": "stderr",
     "output_type": "stream",
     "text": [
      "100%|██████████| 17/17 [00:00<00:00, 18.78it/s]\n"
     ]
    },
    {
     "name": "stdout",
     "output_type": "stream",
     "text": [
      "gomi\n",
      "dec\n",
      "loss\n",
      "cleargrads\n",
      "backward\n"
     ]
    },
    {
     "name": "stderr",
     "output_type": "stream",
     "text": [
      " 67%|██████▋   | 10/15 [00:00<00:00, 75.99it/s]"
     ]
    },
    {
     "name": "stdout",
     "output_type": "stream",
     "text": [
      "update\n",
      "end\n",
      "em\n",
      "enc\n"
     ]
    },
    {
     "name": "stderr",
     "output_type": "stream",
     "text": [
      "100%|██████████| 15/15 [00:00<00:00, 53.57it/s]\n"
     ]
    },
    {
     "name": "stdout",
     "output_type": "stream",
     "text": [
      "gomi\n",
      "dec\n",
      "loss\n",
      "cleargrads\n",
      "backward\n"
     ]
    },
    {
     "name": "stderr",
     "output_type": "stream",
     "text": [
      " 24%|██▍       | 9/37 [00:00<00:00, 81.34it/s]"
     ]
    },
    {
     "name": "stdout",
     "output_type": "stream",
     "text": [
      "update\n",
      "end\n",
      "em\n",
      "enc\n"
     ]
    },
    {
     "name": "stderr",
     "output_type": "stream",
     "text": [
      "100%|██████████| 37/37 [00:00<00:00, 46.25it/s]\n"
     ]
    },
    {
     "name": "stdout",
     "output_type": "stream",
     "text": [
      "gomi\n",
      "dec\n",
      "loss\n",
      "cleargrads\n",
      "backward\n"
     ]
    },
    {
     "name": "stderr",
     "output_type": "stream",
     "text": [
      " 29%|██▉       | 5/17 [00:00<00:00, 48.76it/s]"
     ]
    },
    {
     "name": "stdout",
     "output_type": "stream",
     "text": [
      "update\n",
      "end\n",
      "em\n",
      "enc\n"
     ]
    },
    {
     "name": "stderr",
     "output_type": "stream",
     "text": [
      "100%|██████████| 17/17 [00:01<00:00, 12.80it/s]\n"
     ]
    },
    {
     "name": "stdout",
     "output_type": "stream",
     "text": [
      "gomi\n",
      "dec\n",
      "loss\n",
      "cleargrads\n",
      "backward\n"
     ]
    },
    {
     "name": "stderr",
     "output_type": "stream",
     "text": [
      "\r",
      "  0%|          | 0/22 [00:00<?, ?it/s]"
     ]
    },
    {
     "name": "stdout",
     "output_type": "stream",
     "text": [
      "update\n",
      "end\n",
      "em\n",
      "enc\n"
     ]
    },
    {
     "name": "stderr",
     "output_type": "stream",
     "text": [
      "100%|██████████| 22/22 [00:01<00:00, 18.72it/s]\n"
     ]
    },
    {
     "name": "stdout",
     "output_type": "stream",
     "text": [
      "gomi\n",
      "dec\n",
      "loss\n",
      "cleargrads\n",
      "backward\n"
     ]
    },
    {
     "name": "stderr",
     "output_type": "stream",
     "text": [
      " 52%|█████▏    | 13/25 [00:00<00:00, 123.35it/s]"
     ]
    },
    {
     "name": "stdout",
     "output_type": "stream",
     "text": [
      "update\n",
      "end\n",
      "em\n",
      "enc\n"
     ]
    },
    {
     "name": "stderr",
     "output_type": "stream",
     "text": [
      "100%|██████████| 25/25 [00:00<00:00, 64.56it/s] \n"
     ]
    },
    {
     "name": "stdout",
     "output_type": "stream",
     "text": [
      "gomi\n",
      "dec\n",
      "loss\n",
      "cleargrads\n",
      "backward\n"
     ]
    },
    {
     "name": "stderr",
     "output_type": "stream",
     "text": [
      " 37%|███▋      | 7/19 [00:00<00:00, 59.95it/s]"
     ]
    },
    {
     "name": "stdout",
     "output_type": "stream",
     "text": [
      "update\n",
      "end\n",
      "em\n",
      "enc\n"
     ]
    },
    {
     "name": "stderr",
     "output_type": "stream",
     "text": [
      "100%|██████████| 19/19 [00:00<00:00, 27.88it/s]\n"
     ]
    },
    {
     "name": "stdout",
     "output_type": "stream",
     "text": [
      "gomi\n",
      "dec\n",
      "loss\n",
      "cleargrads\n",
      "backward\n"
     ]
    },
    {
     "name": "stderr",
     "output_type": "stream",
     "text": [
      " 42%|████▏     | 11/26 [00:00<00:00, 105.36it/s]"
     ]
    },
    {
     "name": "stdout",
     "output_type": "stream",
     "text": [
      "update\n",
      "end\n",
      "em\n",
      "enc\n"
     ]
    },
    {
     "name": "stderr",
     "output_type": "stream",
     "text": [
      "100%|██████████| 26/26 [00:00<00:00, 29.17it/s] \n"
     ]
    },
    {
     "name": "stdout",
     "output_type": "stream",
     "text": [
      "gomi\n",
      "dec\n",
      "loss\n",
      "cleargrads\n",
      "backward\n"
     ]
    },
    {
     "name": "stderr",
     "output_type": "stream",
     "text": [
      " 45%|████▌     | 9/20 [00:00<00:00, 82.48it/s]"
     ]
    },
    {
     "name": "stdout",
     "output_type": "stream",
     "text": [
      "update\n",
      "end\n",
      "em\n",
      "enc\n"
     ]
    },
    {
     "name": "stderr",
     "output_type": "stream",
     "text": [
      "100%|██████████| 20/20 [00:00<00:00, 31.11it/s]\n"
     ]
    },
    {
     "name": "stdout",
     "output_type": "stream",
     "text": [
      "gomi\n",
      "dec\n",
      "loss\n",
      "cleargrads\n",
      "backward\n"
     ]
    },
    {
     "name": "stderr",
     "output_type": "stream",
     "text": [
      " 53%|█████▎    | 8/15 [00:00<00:00, 64.57it/s]"
     ]
    },
    {
     "name": "stdout",
     "output_type": "stream",
     "text": [
      "update\n",
      "end\n",
      "em\n",
      "enc\n"
     ]
    },
    {
     "name": "stderr",
     "output_type": "stream",
     "text": [
      "100%|██████████| 15/15 [00:00<00:00, 46.05it/s]\n"
     ]
    },
    {
     "name": "stdout",
     "output_type": "stream",
     "text": [
      "gomi\n",
      "dec\n",
      "loss\n",
      "cleargrads\n",
      "backward\n"
     ]
    },
    {
     "name": "stderr",
     "output_type": "stream",
     "text": [
      " 59%|█████▉    | 16/27 [00:00<00:00, 159.49it/s]"
     ]
    },
    {
     "name": "stdout",
     "output_type": "stream",
     "text": [
      "update\n",
      "end\n",
      "em\n",
      "enc\n"
     ]
    },
    {
     "name": "stderr",
     "output_type": "stream",
     "text": [
      "100%|██████████| 27/27 [00:00<00:00, 66.33it/s] \n"
     ]
    },
    {
     "name": "stdout",
     "output_type": "stream",
     "text": [
      "gomi\n",
      "dec\n",
      "loss\n",
      "cleargrads\n",
      "backward\n"
     ]
    },
    {
     "name": "stderr",
     "output_type": "stream",
     "text": [
      " 47%|████▋     | 21/45 [00:00<00:00, 204.12it/s]"
     ]
    },
    {
     "name": "stdout",
     "output_type": "stream",
     "text": [
      "update\n",
      "end\n",
      "em\n",
      "enc\n"
     ]
    },
    {
     "name": "stderr",
     "output_type": "stream",
     "text": [
      "100%|██████████| 45/45 [00:00<00:00, 65.25it/s] \n"
     ]
    },
    {
     "name": "stdout",
     "output_type": "stream",
     "text": [
      "gomi\n",
      "dec\n",
      "loss\n",
      "cleargrads\n",
      "backward\n"
     ]
    },
    {
     "name": "stderr",
     "output_type": "stream",
     "text": [
      "\r",
      "  0%|          | 0/15 [00:00<?, ?it/s]"
     ]
    },
    {
     "name": "stdout",
     "output_type": "stream",
     "text": [
      "update\n",
      "end\n",
      "em\n",
      "enc\n"
     ]
    },
    {
     "name": "stderr",
     "output_type": "stream",
     "text": [
      "100%|██████████| 15/15 [00:00<00:00, 28.88it/s]\n"
     ]
    },
    {
     "name": "stdout",
     "output_type": "stream",
     "text": [
      "gomi\n",
      "dec\n",
      "loss\n",
      "cleargrads\n",
      "backward\n"
     ]
    },
    {
     "name": "stderr",
     "output_type": "stream",
     "text": [
      " 40%|████      | 12/30 [00:00<00:00, 103.17it/s]"
     ]
    },
    {
     "name": "stdout",
     "output_type": "stream",
     "text": [
      "update\n",
      "end\n",
      "em\n",
      "enc\n"
     ]
    },
    {
     "name": "stderr",
     "output_type": "stream",
     "text": [
      "100%|██████████| 30/30 [00:01<00:00, 22.88it/s] \n"
     ]
    },
    {
     "name": "stdout",
     "output_type": "stream",
     "text": [
      "gomi\n",
      "dec\n",
      "loss\n",
      "cleargrads\n",
      "backward\n"
     ]
    },
    {
     "name": "stderr",
     "output_type": "stream",
     "text": [
      " 43%|████▎     | 9/21 [00:00<00:00, 86.04it/s]"
     ]
    },
    {
     "name": "stdout",
     "output_type": "stream",
     "text": [
      "update\n",
      "end\n",
      "em\n",
      "enc\n"
     ]
    },
    {
     "name": "stderr",
     "output_type": "stream",
     "text": [
      "100%|██████████| 21/21 [00:00<00:00, 32.74it/s]\n"
     ]
    },
    {
     "name": "stdout",
     "output_type": "stream",
     "text": [
      "gomi\n",
      "dec\n",
      "loss\n",
      "cleargrads\n",
      "backward\n"
     ]
    },
    {
     "name": "stderr",
     "output_type": "stream",
     "text": [
      " 37%|███▋      | 7/19 [00:00<00:00, 66.83it/s]"
     ]
    },
    {
     "name": "stdout",
     "output_type": "stream",
     "text": [
      "update\n",
      "end\n",
      "em\n",
      "enc\n"
     ]
    },
    {
     "name": "stderr",
     "output_type": "stream",
     "text": [
      "100%|██████████| 19/19 [00:01<00:00, 16.64it/s]\n"
     ]
    },
    {
     "name": "stdout",
     "output_type": "stream",
     "text": [
      "gomi\n",
      "dec\n",
      "loss\n",
      "cleargrads\n",
      "backward\n"
     ]
    },
    {
     "name": "stderr",
     "output_type": "stream",
     "text": [
      "\r",
      "  0%|          | 0/20 [00:00<?, ?it/s]"
     ]
    },
    {
     "name": "stdout",
     "output_type": "stream",
     "text": [
      "update\n",
      "end\n",
      "em\n",
      "enc\n"
     ]
    },
    {
     "name": "stderr",
     "output_type": "stream",
     "text": [
      "100%|██████████| 20/20 [00:00<00:00, 21.96it/s]\n"
     ]
    },
    {
     "name": "stdout",
     "output_type": "stream",
     "text": [
      "gomi\n",
      "dec\n",
      "loss\n",
      "cleargrads\n",
      "backward\n"
     ]
    },
    {
     "name": "stderr",
     "output_type": "stream",
     "text": [
      " 59%|█████▉    | 23/39 [00:00<00:00, 216.78it/s]"
     ]
    },
    {
     "name": "stdout",
     "output_type": "stream",
     "text": [
      "update\n",
      "end\n",
      "em\n",
      "enc\n"
     ]
    },
    {
     "name": "stderr",
     "output_type": "stream",
     "text": [
      "100%|██████████| 39/39 [00:01<00:00, 35.27it/s] \n"
     ]
    },
    {
     "name": "stdout",
     "output_type": "stream",
     "text": [
      "gomi\n",
      "dec\n",
      "loss\n",
      "cleargrads\n",
      "backward\n"
     ]
    },
    {
     "name": "stderr",
     "output_type": "stream",
     "text": [
      " 44%|████▍     | 8/18 [00:00<00:00, 71.38it/s]"
     ]
    },
    {
     "name": "stdout",
     "output_type": "stream",
     "text": [
      "update\n",
      "end\n",
      "em\n",
      "enc\n"
     ]
    },
    {
     "name": "stderr",
     "output_type": "stream",
     "text": [
      "100%|██████████| 18/18 [00:00<00:00, 28.01it/s]\n"
     ]
    },
    {
     "name": "stdout",
     "output_type": "stream",
     "text": [
      "gomi\n",
      "dec\n",
      "loss\n",
      "cleargrads\n",
      "backward\n"
     ]
    },
    {
     "name": "stderr",
     "output_type": "stream",
     "text": [
      "\r",
      "  0%|          | 0/17 [00:00<?, ?it/s]"
     ]
    },
    {
     "name": "stdout",
     "output_type": "stream",
     "text": [
      "update\n",
      "end\n",
      "em\n",
      "enc\n"
     ]
    },
    {
     "name": "stderr",
     "output_type": "stream",
     "text": [
      "100%|██████████| 17/17 [00:01<00:00, 14.14it/s]\n"
     ]
    },
    {
     "name": "stdout",
     "output_type": "stream",
     "text": [
      "gomi\n",
      "dec\n",
      "loss\n",
      "cleargrads\n",
      "backward\n"
     ]
    },
    {
     "name": "stderr",
     "output_type": "stream",
     "text": [
      " 52%|█████▏    | 11/21 [00:00<00:00, 100.06it/s]"
     ]
    },
    {
     "name": "stdout",
     "output_type": "stream",
     "text": [
      "update\n",
      "end\n",
      "em\n",
      "enc\n"
     ]
    },
    {
     "name": "stderr",
     "output_type": "stream",
     "text": [
      "100%|██████████| 21/21 [00:00<00:00, 53.57it/s] \n"
     ]
    },
    {
     "name": "stdout",
     "output_type": "stream",
     "text": [
      "gomi\n",
      "dec\n",
      "loss\n",
      "cleargrads\n",
      "backward\n"
     ]
    },
    {
     "name": "stderr",
     "output_type": "stream",
     "text": [
      "\r",
      "  0%|          | 0/25 [00:00<?, ?it/s]"
     ]
    },
    {
     "name": "stdout",
     "output_type": "stream",
     "text": [
      "update\n",
      "end\n",
      "em\n",
      "enc\n"
     ]
    },
    {
     "name": "stderr",
     "output_type": "stream",
     "text": [
      "100%|██████████| 25/25 [00:00<00:00, 26.33it/s]\n"
     ]
    },
    {
     "name": "stdout",
     "output_type": "stream",
     "text": [
      "gomi\n",
      "dec\n",
      "loss\n",
      "cleargrads\n",
      "backward\n"
     ]
    },
    {
     "name": "stderr",
     "output_type": "stream",
     "text": [
      "\r",
      "  0%|          | 0/21 [00:00<?, ?it/s]"
     ]
    },
    {
     "name": "stdout",
     "output_type": "stream",
     "text": [
      "update\n",
      "end\n",
      "em\n",
      "enc\n"
     ]
    },
    {
     "name": "stderr",
     "output_type": "stream",
     "text": [
      "100%|██████████| 21/21 [00:02<00:00,  8.94it/s]\n"
     ]
    },
    {
     "name": "stdout",
     "output_type": "stream",
     "text": [
      "gomi\n",
      "dec\n",
      "loss\n",
      "cleargrads\n",
      "backward\n"
     ]
    },
    {
     "name": "stderr",
     "output_type": "stream",
     "text": [
      " 47%|████▋     | 7/15 [00:00<00:00, 55.35it/s]"
     ]
    },
    {
     "name": "stdout",
     "output_type": "stream",
     "text": [
      "update\n",
      "end\n",
      "em\n",
      "enc\n"
     ]
    },
    {
     "name": "stderr",
     "output_type": "stream",
     "text": [
      "100%|██████████| 15/15 [00:00<00:00, 42.67it/s]\n"
     ]
    },
    {
     "name": "stdout",
     "output_type": "stream",
     "text": [
      "gomi\n",
      "dec\n",
      "loss\n",
      "cleargrads\n",
      "backward\n"
     ]
    },
    {
     "name": "stderr",
     "output_type": "stream",
     "text": [
      " 39%|███▉      | 7/18 [00:00<00:00, 60.74it/s]"
     ]
    },
    {
     "name": "stdout",
     "output_type": "stream",
     "text": [
      "update\n",
      "end\n",
      "em\n",
      "enc\n"
     ]
    },
    {
     "name": "stderr",
     "output_type": "stream",
     "text": [
      "100%|██████████| 18/18 [00:00<00:00, 29.87it/s]\n"
     ]
    },
    {
     "name": "stdout",
     "output_type": "stream",
     "text": [
      "gomi\n",
      "dec\n",
      "loss\n",
      "cleargrads\n",
      "backward\n"
     ]
    },
    {
     "name": "stderr",
     "output_type": "stream",
     "text": [
      "\r",
      "  0%|          | 0/23 [00:00<?, ?it/s]"
     ]
    },
    {
     "name": "stdout",
     "output_type": "stream",
     "text": [
      "update\n",
      "end\n",
      "em\n",
      "enc\n"
     ]
    },
    {
     "name": "stderr",
     "output_type": "stream",
     "text": [
      "100%|██████████| 23/23 [00:02<00:00,  9.66it/s]\n"
     ]
    },
    {
     "name": "stdout",
     "output_type": "stream",
     "text": [
      "gomi\n",
      "dec\n",
      "loss\n",
      "cleargrads\n",
      "backward\n"
     ]
    },
    {
     "name": "stderr",
     "output_type": "stream",
     "text": [
      " 46%|████▌     | 11/24 [00:00<00:00, 88.69it/s]"
     ]
    },
    {
     "name": "stdout",
     "output_type": "stream",
     "text": [
      "update\n",
      "end\n",
      "em\n",
      "enc\n"
     ]
    },
    {
     "name": "stderr",
     "output_type": "stream",
     "text": [
      "100%|██████████| 24/24 [00:00<00:00, 35.60it/s]\n"
     ]
    },
    {
     "name": "stdout",
     "output_type": "stream",
     "text": [
      "gomi\n",
      "dec\n",
      "loss\n",
      "cleargrads\n",
      "backward\n"
     ]
    },
    {
     "name": "stderr",
     "output_type": "stream",
     "text": [
      " 26%|██▌       | 6/23 [00:00<00:00, 51.00it/s]"
     ]
    },
    {
     "name": "stdout",
     "output_type": "stream",
     "text": [
      "update\n",
      "end\n",
      "em\n",
      "enc\n"
     ]
    },
    {
     "name": "stderr",
     "output_type": "stream",
     "text": [
      "100%|██████████| 23/23 [00:01<00:00, 16.72it/s]\n"
     ]
    },
    {
     "name": "stdout",
     "output_type": "stream",
     "text": [
      "gomi\n",
      "dec\n",
      "loss\n",
      "cleargrads\n",
      "backward\n"
     ]
    },
    {
     "name": "stderr",
     "output_type": "stream",
     "text": [
      " 41%|████      | 9/22 [00:00<00:00, 79.12it/s]"
     ]
    },
    {
     "name": "stdout",
     "output_type": "stream",
     "text": [
      "update\n",
      "end\n",
      "em\n",
      "enc\n"
     ]
    },
    {
     "name": "stderr",
     "output_type": "stream",
     "text": [
      "100%|██████████| 22/22 [00:00<00:00, 38.38it/s]\n"
     ]
    },
    {
     "name": "stdout",
     "output_type": "stream",
     "text": [
      "gomi\n",
      "dec\n",
      "loss\n",
      "cleargrads\n",
      "backward\n"
     ]
    },
    {
     "name": "stderr",
     "output_type": "stream",
     "text": [
      "\r",
      "  0%|          | 0/15 [00:00<?, ?it/s]"
     ]
    },
    {
     "name": "stdout",
     "output_type": "stream",
     "text": [
      "update\n",
      "end\n",
      "em\n",
      "enc\n"
     ]
    },
    {
     "name": "stderr",
     "output_type": "stream",
     "text": [
      "100%|██████████| 15/15 [00:00<00:00, 18.01it/s]\n"
     ]
    },
    {
     "name": "stdout",
     "output_type": "stream",
     "text": [
      "gomi\n",
      "dec\n",
      "loss\n",
      "cleargrads\n",
      "backward\n"
     ]
    },
    {
     "name": "stderr",
     "output_type": "stream",
     "text": [
      " 53%|█████▎    | 9/17 [00:00<00:00, 79.60it/s]"
     ]
    },
    {
     "name": "stdout",
     "output_type": "stream",
     "text": [
      "update\n",
      "end\n",
      "em\n",
      "enc\n"
     ]
    },
    {
     "name": "stderr",
     "output_type": "stream",
     "text": [
      "100%|██████████| 17/17 [00:00<00:00, 42.99it/s]\n"
     ]
    },
    {
     "name": "stdout",
     "output_type": "stream",
     "text": [
      "gomi\n",
      "dec\n",
      "loss\n",
      "cleargrads\n",
      "backward\n"
     ]
    },
    {
     "name": "stderr",
     "output_type": "stream",
     "text": [
      " 53%|█████▎    | 9/17 [00:00<00:00, 70.10it/s]"
     ]
    },
    {
     "name": "stdout",
     "output_type": "stream",
     "text": [
      "update\n",
      "end\n",
      "em\n",
      "enc\n"
     ]
    },
    {
     "name": "stderr",
     "output_type": "stream",
     "text": [
      "100%|██████████| 17/17 [00:00<00:00, 46.18it/s]\n"
     ]
    },
    {
     "name": "stdout",
     "output_type": "stream",
     "text": [
      "gomi\n",
      "dec\n",
      "loss\n",
      "cleargrads\n",
      "backward\n"
     ]
    },
    {
     "name": "stderr",
     "output_type": "stream",
     "text": [
      " 38%|███▊      | 8/21 [00:00<00:00, 74.49it/s]"
     ]
    },
    {
     "name": "stdout",
     "output_type": "stream",
     "text": [
      "update\n",
      "end\n",
      "em\n",
      "enc\n"
     ]
    },
    {
     "name": "stderr",
     "output_type": "stream",
     "text": [
      "100%|██████████| 21/21 [00:00<00:00, 22.44it/s]\n"
     ]
    },
    {
     "name": "stdout",
     "output_type": "stream",
     "text": [
      "gomi\n",
      "dec\n",
      "loss\n",
      "cleargrads\n",
      "backward\n"
     ]
    },
    {
     "name": "stderr",
     "output_type": "stream",
     "text": [
      " 67%|██████▋   | 8/12 [00:00<00:00, 65.68it/s]"
     ]
    },
    {
     "name": "stdout",
     "output_type": "stream",
     "text": [
      "update\n",
      "end\n",
      "em\n",
      "enc\n"
     ]
    },
    {
     "name": "stderr",
     "output_type": "stream",
     "text": [
      "100%|██████████| 12/12 [00:00<00:00, 49.59it/s]\n"
     ]
    },
    {
     "name": "stdout",
     "output_type": "stream",
     "text": [
      "gomi\n",
      "dec\n",
      "loss\n",
      "cleargrads\n",
      "backward\n"
     ]
    },
    {
     "name": "stderr",
     "output_type": "stream",
     "text": [
      " 44%|████▍     | 8/18 [00:00<00:00, 61.93it/s]"
     ]
    },
    {
     "name": "stdout",
     "output_type": "stream",
     "text": [
      "update\n",
      "end\n",
      "em\n",
      "enc\n"
     ]
    },
    {
     "name": "stderr",
     "output_type": "stream",
     "text": [
      "100%|██████████| 18/18 [00:00<00:00, 30.78it/s]\n"
     ]
    },
    {
     "name": "stdout",
     "output_type": "stream",
     "text": [
      "gomi\n",
      "dec\n",
      "loss\n",
      "cleargrads\n",
      "backward\n"
     ]
    },
    {
     "name": "stderr",
     "output_type": "stream",
     "text": [
      " 50%|█████     | 9/18 [00:00<00:00, 86.23it/s]"
     ]
    },
    {
     "name": "stdout",
     "output_type": "stream",
     "text": [
      "update\n",
      "end\n",
      "em\n",
      "enc\n"
     ]
    },
    {
     "name": "stderr",
     "output_type": "stream",
     "text": [
      "100%|██████████| 18/18 [00:00<00:00, 57.66it/s]\n"
     ]
    },
    {
     "name": "stdout",
     "output_type": "stream",
     "text": [
      "gomi\n",
      "dec\n",
      "loss\n",
      "cleargrads\n",
      "backward\n"
     ]
    },
    {
     "name": "stderr",
     "output_type": "stream",
     "text": [
      " 47%|████▋     | 7/15 [00:00<00:00, 55.51it/s]"
     ]
    },
    {
     "name": "stdout",
     "output_type": "stream",
     "text": [
      "update\n",
      "end\n",
      "em\n",
      "enc\n"
     ]
    },
    {
     "name": "stderr",
     "output_type": "stream",
     "text": [
      "100%|██████████| 15/15 [00:00<00:00, 17.02it/s]\n"
     ]
    },
    {
     "name": "stdout",
     "output_type": "stream",
     "text": [
      "gomi\n",
      "dec\n",
      "loss\n",
      "cleargrads\n",
      "backward\n"
     ]
    },
    {
     "name": "stderr",
     "output_type": "stream",
     "text": [
      " 52%|█████▏    | 12/23 [00:00<00:00, 106.00it/s]"
     ]
    },
    {
     "name": "stdout",
     "output_type": "stream",
     "text": [
      "update\n",
      "end\n",
      "em\n",
      "enc\n"
     ]
    },
    {
     "name": "stderr",
     "output_type": "stream",
     "text": [
      "100%|██████████| 23/23 [00:00<00:00, 38.21it/s] \n"
     ]
    },
    {
     "name": "stdout",
     "output_type": "stream",
     "text": [
      "gomi\n",
      "dec\n",
      "loss\n",
      "cleargrads\n",
      "backward\n"
     ]
    },
    {
     "name": "stderr",
     "output_type": "stream",
     "text": [
      " 56%|█████▌    | 10/18 [00:00<00:00, 83.31it/s]"
     ]
    },
    {
     "name": "stdout",
     "output_type": "stream",
     "text": [
      "update\n",
      "end\n",
      "em\n",
      "enc\n"
     ]
    },
    {
     "name": "stderr",
     "output_type": "stream",
     "text": [
      "100%|██████████| 18/18 [00:00<00:00, 48.11it/s]\n"
     ]
    },
    {
     "name": "stdout",
     "output_type": "stream",
     "text": [
      "gomi\n",
      "dec\n",
      "loss\n",
      "cleargrads\n",
      "backward\n"
     ]
    },
    {
     "name": "stderr",
     "output_type": "stream",
     "text": [
      " 50%|█████     | 9/18 [00:00<00:00, 85.51it/s]"
     ]
    },
    {
     "name": "stdout",
     "output_type": "stream",
     "text": [
      "update\n",
      "end\n",
      "em\n",
      "enc\n"
     ]
    },
    {
     "name": "stderr",
     "output_type": "stream",
     "text": [
      "100%|██████████| 18/18 [00:00<00:00, 22.52it/s]\n"
     ]
    },
    {
     "name": "stdout",
     "output_type": "stream",
     "text": [
      "gomi\n",
      "dec\n",
      "loss\n",
      "cleargrads\n",
      "backward\n"
     ]
    },
    {
     "name": "stderr",
     "output_type": "stream",
     "text": [
      " 35%|███▌      | 7/20 [00:00<00:00, 69.20it/s]"
     ]
    },
    {
     "name": "stdout",
     "output_type": "stream",
     "text": [
      "update\n",
      "end\n",
      "em\n",
      "enc\n"
     ]
    },
    {
     "name": "stderr",
     "output_type": "stream",
     "text": [
      "100%|██████████| 20/20 [00:00<00:00, 21.50it/s]\n"
     ]
    },
    {
     "name": "stdout",
     "output_type": "stream",
     "text": [
      "gomi\n",
      "dec\n",
      "loss\n",
      "cleargrads\n",
      "backward\n"
     ]
    },
    {
     "name": "stderr",
     "output_type": "stream",
     "text": [
      " 53%|█████▎    | 9/17 [00:00<00:00, 78.35it/s]"
     ]
    },
    {
     "name": "stdout",
     "output_type": "stream",
     "text": [
      "update\n",
      "end\n",
      "em\n",
      "enc\n"
     ]
    },
    {
     "name": "stderr",
     "output_type": "stream",
     "text": [
      "100%|██████████| 17/17 [00:00<00:00, 41.11it/s]\n"
     ]
    },
    {
     "name": "stdout",
     "output_type": "stream",
     "text": [
      "gomi\n",
      "dec\n",
      "loss\n",
      "cleargrads\n",
      "backward\n",
      "update\n",
      "end\n",
      "em\n"
     ]
    },
    {
     "name": "stderr",
     "output_type": "stream",
     "text": [
      " 16%|█▌        | 3/19 [00:00<00:00, 24.33it/s]"
     ]
    },
    {
     "name": "stdout",
     "output_type": "stream",
     "text": [
      "enc\n"
     ]
    },
    {
     "name": "stderr",
     "output_type": "stream",
     "text": [
      "100%|██████████| 19/19 [00:00<00:00, 27.74it/s]\n"
     ]
    },
    {
     "name": "stdout",
     "output_type": "stream",
     "text": [
      "gomi\n",
      "dec\n",
      "loss\n",
      "cleargrads\n",
      "backward\n"
     ]
    },
    {
     "name": "stderr",
     "output_type": "stream",
     "text": [
      " 50%|█████     | 11/22 [00:00<00:00, 93.76it/s]"
     ]
    },
    {
     "name": "stdout",
     "output_type": "stream",
     "text": [
      "update\n",
      "end\n",
      "em\n",
      "enc\n"
     ]
    },
    {
     "name": "stderr",
     "output_type": "stream",
     "text": [
      "100%|██████████| 22/22 [00:00<00:00, 34.66it/s]\n"
     ]
    },
    {
     "name": "stdout",
     "output_type": "stream",
     "text": [
      "gomi\n",
      "dec\n",
      "loss\n",
      "cleargrads\n",
      "backward\n"
     ]
    },
    {
     "name": "stderr",
     "output_type": "stream",
     "text": [
      "\r",
      "  0%|          | 0/22 [00:00<?, ?it/s]"
     ]
    },
    {
     "name": "stdout",
     "output_type": "stream",
     "text": [
      "update\n",
      "end\n",
      "em\n",
      "enc\n"
     ]
    },
    {
     "name": "stderr",
     "output_type": "stream",
     "text": [
      "100%|██████████| 22/22 [00:01<00:00, 21.14it/s]\n"
     ]
    },
    {
     "name": "stdout",
     "output_type": "stream",
     "text": [
      "gomi\n",
      "dec\n",
      "loss\n",
      "cleargrads\n",
      "backward\n"
     ]
    },
    {
     "name": "stderr",
     "output_type": "stream",
     "text": [
      "\r",
      "  0%|          | 0/25 [00:00<?, ?it/s]"
     ]
    },
    {
     "name": "stdout",
     "output_type": "stream",
     "text": [
      "update\n",
      "end\n",
      "em\n",
      "enc\n"
     ]
    },
    {
     "name": "stderr",
     "output_type": "stream",
     "text": [
      "100%|██████████| 25/25 [00:01<00:00, 16.26it/s]\n"
     ]
    },
    {
     "name": "stdout",
     "output_type": "stream",
     "text": [
      "gomi\n",
      "dec\n",
      "loss\n",
      "cleargrads\n",
      "backward\n"
     ]
    },
    {
     "name": "stderr",
     "output_type": "stream",
     "text": [
      " 33%|███▎      | 6/18 [00:00<00:00, 53.08it/s]"
     ]
    },
    {
     "name": "stdout",
     "output_type": "stream",
     "text": [
      "update\n",
      "end\n",
      "em\n",
      "enc\n"
     ]
    },
    {
     "name": "stderr",
     "output_type": "stream",
     "text": [
      "100%|██████████| 18/18 [00:00<00:00, 20.91it/s]\n"
     ]
    },
    {
     "name": "stdout",
     "output_type": "stream",
     "text": [
      "gomi\n",
      "dec\n",
      "loss\n",
      "cleargrads\n",
      "backward\n"
     ]
    },
    {
     "name": "stderr",
     "output_type": "stream",
     "text": [
      " 44%|████▍     | 11/25 [00:00<00:00, 107.26it/s]"
     ]
    },
    {
     "name": "stdout",
     "output_type": "stream",
     "text": [
      "update\n",
      "end\n",
      "em\n",
      "enc\n"
     ]
    },
    {
     "name": "stderr",
     "output_type": "stream",
     "text": [
      "100%|██████████| 25/25 [00:01<00:00, 22.21it/s] \n"
     ]
    },
    {
     "name": "stdout",
     "output_type": "stream",
     "text": [
      "gomi\n",
      "dec\n",
      "loss\n",
      "cleargrads\n",
      "backward\n"
     ]
    },
    {
     "name": "stderr",
     "output_type": "stream",
     "text": [
      " 53%|█████▎    | 8/15 [00:00<00:00, 68.77it/s]"
     ]
    },
    {
     "name": "stdout",
     "output_type": "stream",
     "text": [
      "update\n",
      "end\n",
      "em\n",
      "enc\n"
     ]
    },
    {
     "name": "stderr",
     "output_type": "stream",
     "text": [
      "100%|██████████| 15/15 [00:00<00:00, 45.90it/s]\n"
     ]
    },
    {
     "name": "stdout",
     "output_type": "stream",
     "text": [
      "gomi\n",
      "dec\n",
      "loss\n",
      "cleargrads\n",
      "backward\n"
     ]
    },
    {
     "name": "stderr",
     "output_type": "stream",
     "text": [
      " 39%|███▉      | 9/23 [00:00<00:00, 72.57it/s]"
     ]
    },
    {
     "name": "stdout",
     "output_type": "stream",
     "text": [
      "update\n",
      "end\n",
      "em\n",
      "enc\n"
     ]
    },
    {
     "name": "stderr",
     "output_type": "stream",
     "text": [
      "100%|██████████| 23/23 [00:00<00:00, 29.03it/s]\n"
     ]
    },
    {
     "name": "stdout",
     "output_type": "stream",
     "text": [
      "gomi\n",
      "dec\n",
      "loss\n",
      "cleargrads\n",
      "backward\n"
     ]
    },
    {
     "name": "stderr",
     "output_type": "stream",
     "text": [
      "\r",
      "  0%|          | 0/13 [00:00<?, ?it/s]"
     ]
    },
    {
     "name": "stdout",
     "output_type": "stream",
     "text": [
      "update\n",
      "end\n",
      "em\n",
      "enc\n"
     ]
    },
    {
     "name": "stderr",
     "output_type": "stream",
     "text": [
      "100%|██████████| 13/13 [00:00<00:00, 17.96it/s]\n"
     ]
    },
    {
     "name": "stdout",
     "output_type": "stream",
     "text": [
      "gomi\n",
      "dec\n",
      "loss\n",
      "cleargrads\n",
      "backward\n",
      "update\n",
      "end\n",
      "em\n"
     ]
    },
    {
     "name": "stderr",
     "output_type": "stream",
     "text": [
      " 23%|██▎       | 7/30 [00:00<00:00, 55.19it/s]"
     ]
    },
    {
     "name": "stdout",
     "output_type": "stream",
     "text": [
      "enc\n"
     ]
    },
    {
     "name": "stderr",
     "output_type": "stream",
     "text": [
      "100%|██████████| 30/30 [00:02<00:00, 12.61it/s]\n"
     ]
    },
    {
     "name": "stdout",
     "output_type": "stream",
     "text": [
      "gomi\n",
      "dec\n",
      "loss\n",
      "cleargrads\n",
      "backward\n"
     ]
    },
    {
     "name": "stderr",
     "output_type": "stream",
     "text": [
      "\r",
      "  0%|          | 0/23 [00:00<?, ?it/s]"
     ]
    },
    {
     "name": "stdout",
     "output_type": "stream",
     "text": [
      "update\n",
      "end\n",
      "em\n",
      "enc\n"
     ]
    },
    {
     "name": "stderr",
     "output_type": "stream",
     "text": [
      "100%|██████████| 23/23 [00:00<00:00, 31.95it/s]\n"
     ]
    },
    {
     "name": "stdout",
     "output_type": "stream",
     "text": [
      "gomi\n",
      "dec\n",
      "loss\n",
      "cleargrads\n",
      "backward\n"
     ]
    },
    {
     "name": "stderr",
     "output_type": "stream",
     "text": [
      " 38%|███▊      | 6/16 [00:00<00:00, 59.91it/s]"
     ]
    },
    {
     "name": "stdout",
     "output_type": "stream",
     "text": [
      "update\n",
      "end\n",
      "em\n",
      "enc\n"
     ]
    },
    {
     "name": "stderr",
     "output_type": "stream",
     "text": [
      "100%|██████████| 16/16 [00:00<00:00, 18.07it/s]\n"
     ]
    },
    {
     "name": "stdout",
     "output_type": "stream",
     "text": [
      "gomi\n",
      "dec\n",
      "loss\n",
      "cleargrads\n",
      "backward\n"
     ]
    },
    {
     "name": "stderr",
     "output_type": "stream",
     "text": [
      "\r",
      "  0%|          | 0/20 [00:00<?, ?it/s]"
     ]
    },
    {
     "name": "stdout",
     "output_type": "stream",
     "text": [
      "update\n",
      "end\n",
      "em\n",
      "enc\n"
     ]
    },
    {
     "name": "stderr",
     "output_type": "stream",
     "text": [
      "100%|██████████| 20/20 [00:01<00:00, 10.15it/s]\n"
     ]
    },
    {
     "name": "stdout",
     "output_type": "stream",
     "text": [
      "gomi\n",
      "dec\n",
      "loss\n",
      "cleargrads\n",
      "backward\n"
     ]
    },
    {
     "name": "stderr",
     "output_type": "stream",
     "text": [
      " 33%|███▎      | 7/21 [00:00<00:00, 53.97it/s]"
     ]
    },
    {
     "name": "stdout",
     "output_type": "stream",
     "text": [
      "update\n",
      "end\n",
      "em\n",
      "enc\n"
     ]
    },
    {
     "name": "stderr",
     "output_type": "stream",
     "text": [
      "100%|██████████| 21/21 [00:00<00:00, 43.77it/s]\n"
     ]
    },
    {
     "name": "stdout",
     "output_type": "stream",
     "text": [
      "gomi\n",
      "dec\n",
      "loss\n",
      "cleargrads\n",
      "backward\n"
     ]
    },
    {
     "name": "stderr",
     "output_type": "stream",
     "text": [
      "\r",
      "  0%|          | 0/26 [00:00<?, ?it/s]"
     ]
    },
    {
     "name": "stdout",
     "output_type": "stream",
     "text": [
      "update\n",
      "end\n",
      "em\n",
      "enc\n"
     ]
    },
    {
     "name": "stderr",
     "output_type": "stream",
     "text": [
      "100%|██████████| 26/26 [00:00<00:00, 34.23it/s]\n"
     ]
    },
    {
     "name": "stdout",
     "output_type": "stream",
     "text": [
      "gomi\n",
      "dec\n",
      "loss\n",
      "cleargrads\n",
      "backward\n",
      "update\n",
      "end\n",
      "em\n"
     ]
    },
    {
     "name": "stderr",
     "output_type": "stream",
     "text": [
      " 40%|████      | 6/15 [00:00<00:00, 49.16it/s]"
     ]
    },
    {
     "name": "stdout",
     "output_type": "stream",
     "text": [
      "enc\n"
     ]
    },
    {
     "name": "stderr",
     "output_type": "stream",
     "text": [
      "100%|██████████| 15/15 [00:00<00:00, 37.57it/s]\n"
     ]
    },
    {
     "name": "stdout",
     "output_type": "stream",
     "text": [
      "gomi\n",
      "dec\n",
      "loss\n",
      "cleargrads\n",
      "backward\n"
     ]
    },
    {
     "name": "stderr",
     "output_type": "stream",
     "text": [
      "\r",
      "  0%|          | 0/18 [00:00<?, ?it/s]"
     ]
    },
    {
     "name": "stdout",
     "output_type": "stream",
     "text": [
      "update\n",
      "end\n",
      "em\n",
      "enc\n"
     ]
    },
    {
     "name": "stderr",
     "output_type": "stream",
     "text": [
      "100%|██████████| 18/18 [00:01<00:00, 16.08it/s]\n"
     ]
    },
    {
     "name": "stdout",
     "output_type": "stream",
     "text": [
      "gomi\n",
      "dec\n",
      "loss\n",
      "cleargrads\n",
      "backward\n"
     ]
    },
    {
     "name": "stderr",
     "output_type": "stream",
     "text": [
      "\r",
      "  0%|          | 0/15 [00:00<?, ?it/s]"
     ]
    },
    {
     "name": "stdout",
     "output_type": "stream",
     "text": [
      "update\n",
      "end\n",
      "em\n",
      "enc\n"
     ]
    },
    {
     "name": "stderr",
     "output_type": "stream",
     "text": [
      "100%|██████████| 15/15 [00:01<00:00, 13.80it/s]\n"
     ]
    },
    {
     "name": "stdout",
     "output_type": "stream",
     "text": [
      "gomi\n",
      "dec\n",
      "loss\n",
      "cleargrads\n",
      "backward\n"
     ]
    },
    {
     "name": "stderr",
     "output_type": "stream",
     "text": [
      " 43%|████▎     | 6/14 [00:00<00:00, 40.20it/s]"
     ]
    },
    {
     "name": "stdout",
     "output_type": "stream",
     "text": [
      "update\n",
      "end\n",
      "em\n",
      "enc\n"
     ]
    },
    {
     "name": "stderr",
     "output_type": "stream",
     "text": [
      "100%|██████████| 14/14 [00:00<00:00, 29.37it/s]\n"
     ]
    },
    {
     "name": "stdout",
     "output_type": "stream",
     "text": [
      "gomi\n",
      "dec\n",
      "loss\n",
      "cleargrads\n",
      "backward\n"
     ]
    },
    {
     "name": "stderr",
     "output_type": "stream",
     "text": [
      " 50%|█████     | 6/12 [00:00<00:00, 49.25it/s]"
     ]
    },
    {
     "name": "stdout",
     "output_type": "stream",
     "text": [
      "update\n",
      "end\n",
      "em\n",
      "enc\n"
     ]
    },
    {
     "name": "stderr",
     "output_type": "stream",
     "text": [
      "100%|██████████| 12/12 [00:00<00:00, 37.41it/s]\n"
     ]
    },
    {
     "name": "stdout",
     "output_type": "stream",
     "text": [
      "gomi\n",
      "dec\n",
      "loss\n",
      "cleargrads\n",
      "backward\n"
     ]
    },
    {
     "name": "stderr",
     "output_type": "stream",
     "text": [
      " 47%|████▋     | 9/19 [00:00<00:00, 87.21it/s]"
     ]
    },
    {
     "name": "stdout",
     "output_type": "stream",
     "text": [
      "update\n",
      "end\n",
      "em\n",
      "enc\n"
     ]
    },
    {
     "name": "stderr",
     "output_type": "stream",
     "text": [
      "100%|██████████| 19/19 [00:01<00:00, 18.60it/s]\n"
     ]
    },
    {
     "name": "stdout",
     "output_type": "stream",
     "text": [
      "gomi\n",
      "dec\n",
      "loss\n",
      "cleargrads\n",
      "backward\n"
     ]
    },
    {
     "name": "stderr",
     "output_type": "stream",
     "text": [
      "\r",
      "  0%|          | 0/16 [00:00<?, ?it/s]"
     ]
    },
    {
     "name": "stdout",
     "output_type": "stream",
     "text": [
      "update\n",
      "end\n",
      "em\n",
      "enc\n"
     ]
    },
    {
     "name": "stderr",
     "output_type": "stream",
     "text": [
      "100%|██████████| 16/16 [00:00<00:00, 23.43it/s]\n"
     ]
    },
    {
     "name": "stdout",
     "output_type": "stream",
     "text": [
      "gomi\n",
      "dec\n",
      "loss\n",
      "cleargrads\n",
      "backward\n"
     ]
    },
    {
     "name": "stderr",
     "output_type": "stream",
     "text": [
      " 40%|████      | 8/20 [00:00<00:00, 74.98it/s]"
     ]
    },
    {
     "name": "stdout",
     "output_type": "stream",
     "text": [
      "update\n",
      "end\n",
      "em\n",
      "enc\n"
     ]
    },
    {
     "name": "stderr",
     "output_type": "stream",
     "text": [
      "100%|██████████| 20/20 [00:01<00:00, 19.02it/s]\n"
     ]
    },
    {
     "name": "stdout",
     "output_type": "stream",
     "text": [
      "gomi\n",
      "dec\n",
      "loss\n",
      "cleargrads\n",
      "backward\n"
     ]
    },
    {
     "name": "stderr",
     "output_type": "stream",
     "text": [
      "\r",
      "  0%|          | 0/16 [00:00<?, ?it/s]"
     ]
    },
    {
     "name": "stdout",
     "output_type": "stream",
     "text": [
      "update\n",
      "end\n",
      "em\n",
      "enc\n"
     ]
    },
    {
     "name": "stderr",
     "output_type": "stream",
     "text": [
      "100%|██████████| 16/16 [00:00<00:00, 30.97it/s]\n"
     ]
    },
    {
     "name": "stdout",
     "output_type": "stream",
     "text": [
      "gomi\n",
      "dec\n",
      "loss\n",
      "cleargrads\n",
      "backward\n"
     ]
    },
    {
     "name": "stderr",
     "output_type": "stream",
     "text": [
      "\r",
      "  0%|          | 0/23 [00:00<?, ?it/s]"
     ]
    },
    {
     "name": "stdout",
     "output_type": "stream",
     "text": [
      "update\n",
      "end\n",
      "em\n",
      "enc\n"
     ]
    },
    {
     "name": "stderr",
     "output_type": "stream",
     "text": [
      "100%|██████████| 23/23 [00:01<00:00, 20.91it/s]\n"
     ]
    },
    {
     "name": "stdout",
     "output_type": "stream",
     "text": [
      "gomi\n",
      "dec\n",
      "loss\n",
      "cleargrads\n",
      "backward\n"
     ]
    },
    {
     "name": "stderr",
     "output_type": "stream",
     "text": [
      " 47%|████▋     | 8/17 [00:00<00:00, 59.67it/s]"
     ]
    },
    {
     "name": "stdout",
     "output_type": "stream",
     "text": [
      "update\n",
      "end\n",
      "em\n",
      "enc\n"
     ]
    },
    {
     "name": "stderr",
     "output_type": "stream",
     "text": [
      "100%|██████████| 17/17 [00:00<00:00, 35.07it/s]\n"
     ]
    },
    {
     "name": "stdout",
     "output_type": "stream",
     "text": [
      "gomi\n",
      "dec\n",
      "loss\n",
      "cleargrads\n",
      "backward\n"
     ]
    },
    {
     "name": "stderr",
     "output_type": "stream",
     "text": [
      " 43%|████▎     | 6/14 [00:00<00:00, 45.45it/s]"
     ]
    },
    {
     "name": "stdout",
     "output_type": "stream",
     "text": [
      "update\n",
      "end\n",
      "em\n",
      "enc\n"
     ]
    },
    {
     "name": "stderr",
     "output_type": "stream",
     "text": [
      "100%|██████████| 14/14 [00:00<00:00, 33.93it/s]\n"
     ]
    },
    {
     "name": "stdout",
     "output_type": "stream",
     "text": [
      "gomi\n",
      "dec\n",
      "loss\n",
      "cleargrads\n",
      "backward\n"
     ]
    },
    {
     "name": "stderr",
     "output_type": "stream",
     "text": [
      "\r",
      "  0%|          | 0/20 [00:00<?, ?it/s]"
     ]
    },
    {
     "name": "stdout",
     "output_type": "stream",
     "text": [
      "update\n",
      "end\n",
      "em\n",
      "enc\n"
     ]
    },
    {
     "name": "stderr",
     "output_type": "stream",
     "text": [
      "100%|██████████| 20/20 [00:01<00:00, 17.36it/s]\n"
     ]
    },
    {
     "name": "stdout",
     "output_type": "stream",
     "text": [
      "gomi\n",
      "dec\n",
      "loss\n",
      "cleargrads\n",
      "backward\n"
     ]
    },
    {
     "name": "stderr",
     "output_type": "stream",
     "text": [
      " 43%|████▎     | 9/21 [00:00<00:00, 89.50it/s]"
     ]
    },
    {
     "name": "stdout",
     "output_type": "stream",
     "text": [
      "update\n",
      "end\n",
      "em\n",
      "enc\n"
     ]
    },
    {
     "name": "stderr",
     "output_type": "stream",
     "text": [
      "100%|██████████| 21/21 [00:00<00:00, 45.37it/s]\n"
     ]
    },
    {
     "name": "stdout",
     "output_type": "stream",
     "text": [
      "gomi\n",
      "dec\n",
      "loss\n",
      "cleargrads\n",
      "backward\n"
     ]
    },
    {
     "name": "stderr",
     "output_type": "stream",
     "text": [
      " 40%|████      | 8/20 [00:00<00:00, 63.28it/s]"
     ]
    },
    {
     "name": "stdout",
     "output_type": "stream",
     "text": [
      "update\n",
      "end\n",
      "em\n",
      "enc\n"
     ]
    },
    {
     "name": "stderr",
     "output_type": "stream",
     "text": [
      "100%|██████████| 20/20 [00:01<00:00, 16.77it/s]\n"
     ]
    },
    {
     "name": "stdout",
     "output_type": "stream",
     "text": [
      "gomi\n",
      "dec\n",
      "loss\n",
      "cleargrads\n",
      "backward\n"
     ]
    },
    {
     "name": "stderr",
     "output_type": "stream",
     "text": [
      "\r",
      "  0%|          | 0/22 [00:00<?, ?it/s]"
     ]
    },
    {
     "name": "stdout",
     "output_type": "stream",
     "text": [
      "update\n",
      "end\n",
      "em\n",
      "enc\n"
     ]
    },
    {
     "name": "stderr",
     "output_type": "stream",
     "text": [
      "100%|██████████| 22/22 [00:00<00:00, 32.83it/s]\n"
     ]
    },
    {
     "name": "stdout",
     "output_type": "stream",
     "text": [
      "gomi\n",
      "dec\n",
      "loss\n",
      "cleargrads\n",
      "backward\n"
     ]
    },
    {
     "name": "stderr",
     "output_type": "stream",
     "text": [
      " 27%|██▋       | 7/26 [00:00<00:00, 67.16it/s]"
     ]
    },
    {
     "name": "stdout",
     "output_type": "stream",
     "text": [
      "update\n",
      "end\n",
      "em\n",
      "enc\n"
     ]
    },
    {
     "name": "stderr",
     "output_type": "stream",
     "text": [
      "100%|██████████| 26/26 [00:01<00:00, 17.71it/s]\n"
     ]
    },
    {
     "name": "stdout",
     "output_type": "stream",
     "text": [
      "gomi\n",
      "dec\n",
      "loss\n",
      "cleargrads\n",
      "backward\n"
     ]
    },
    {
     "name": "stderr",
     "output_type": "stream",
     "text": [
      "\r",
      "  0%|          | 0/16 [00:00<?, ?it/s]"
     ]
    },
    {
     "name": "stdout",
     "output_type": "stream",
     "text": [
      "update\n",
      "end\n",
      "em\n",
      "enc\n"
     ]
    },
    {
     "name": "stderr",
     "output_type": "stream",
     "text": [
      "100%|██████████| 16/16 [00:00<00:00, 29.76it/s]\n"
     ]
    },
    {
     "name": "stdout",
     "output_type": "stream",
     "text": [
      "gomi\n",
      "dec\n",
      "loss\n",
      "cleargrads\n",
      "backward\n"
     ]
    },
    {
     "name": "stderr",
     "output_type": "stream",
     "text": [
      " 38%|███▊      | 9/24 [00:00<00:00, 86.00it/s]"
     ]
    },
    {
     "name": "stdout",
     "output_type": "stream",
     "text": [
      "update\n",
      "end\n",
      "em\n",
      "enc\n"
     ]
    },
    {
     "name": "stderr",
     "output_type": "stream",
     "text": [
      "100%|██████████| 24/24 [00:00<00:00, 46.12it/s]\n"
     ]
    },
    {
     "name": "stdout",
     "output_type": "stream",
     "text": [
      "gomi\n",
      "dec\n",
      "loss\n",
      "cleargrads\n",
      "backward\n"
     ]
    },
    {
     "name": "stderr",
     "output_type": "stream",
     "text": [
      " 48%|████▊     | 10/21 [00:00<00:00, 79.07it/s]"
     ]
    },
    {
     "name": "stdout",
     "output_type": "stream",
     "text": [
      "update\n",
      "end\n",
      "em\n",
      "enc\n"
     ]
    },
    {
     "name": "stderr",
     "output_type": "stream",
     "text": [
      "100%|██████████| 21/21 [00:00<00:00, 22.07it/s]\n"
     ]
    },
    {
     "name": "stdout",
     "output_type": "stream",
     "text": [
      "gomi\n",
      "dec\n",
      "loss\n",
      "cleargrads\n",
      "backward\n"
     ]
    },
    {
     "name": "stderr",
     "output_type": "stream",
     "text": [
      " 40%|████      | 6/15 [00:00<00:00, 57.96it/s]"
     ]
    },
    {
     "name": "stdout",
     "output_type": "stream",
     "text": [
      "update\n",
      "end\n",
      "em\n",
      "enc\n"
     ]
    },
    {
     "name": "stderr",
     "output_type": "stream",
     "text": [
      "100%|██████████| 15/15 [00:00<00:00, 38.24it/s]\n"
     ]
    },
    {
     "name": "stdout",
     "output_type": "stream",
     "text": [
      "gomi\n",
      "dec\n",
      "loss\n",
      "cleargrads\n",
      "backward\n"
     ]
    },
    {
     "name": "stderr",
     "output_type": "stream",
     "text": [
      " 44%|████▍     | 8/18 [00:00<00:00, 57.67it/s]"
     ]
    },
    {
     "name": "stdout",
     "output_type": "stream",
     "text": [
      "update\n",
      "end\n",
      "em\n",
      "enc\n"
     ]
    },
    {
     "name": "stderr",
     "output_type": "stream",
     "text": [
      "100%|██████████| 18/18 [00:00<00:00, 36.57it/s]\n"
     ]
    },
    {
     "name": "stdout",
     "output_type": "stream",
     "text": [
      "gomi\n",
      "dec\n",
      "loss\n",
      "cleargrads\n",
      "backward\n"
     ]
    },
    {
     "name": "stderr",
     "output_type": "stream",
     "text": [
      " 44%|████▍     | 11/25 [00:00<00:00, 98.85it/s]"
     ]
    },
    {
     "name": "stdout",
     "output_type": "stream",
     "text": [
      "update\n",
      "end\n",
      "em\n",
      "enc\n"
     ]
    },
    {
     "name": "stderr",
     "output_type": "stream",
     "text": [
      "100%|██████████| 25/25 [00:01<00:00, 20.75it/s]\n"
     ]
    },
    {
     "name": "stdout",
     "output_type": "stream",
     "text": [
      "gomi\n",
      "dec\n",
      "loss\n",
      "cleargrads\n",
      "backward\n"
     ]
    },
    {
     "name": "stderr",
     "output_type": "stream",
     "text": [
      " 40%|████      | 8/20 [00:00<00:00, 72.38it/s]"
     ]
    },
    {
     "name": "stdout",
     "output_type": "stream",
     "text": [
      "update\n",
      "end\n",
      "em\n",
      "enc\n"
     ]
    },
    {
     "name": "stderr",
     "output_type": "stream",
     "text": [
      "100%|██████████| 20/20 [00:00<00:00, 23.40it/s]\n"
     ]
    },
    {
     "name": "stdout",
     "output_type": "stream",
     "text": [
      "gomi\n",
      "dec\n",
      "loss\n",
      "cleargrads\n",
      "backward\n"
     ]
    },
    {
     "name": "stderr",
     "output_type": "stream",
     "text": [
      " 27%|██▋       | 6/22 [00:00<00:00, 56.15it/s]"
     ]
    },
    {
     "name": "stdout",
     "output_type": "stream",
     "text": [
      "update\n",
      "end\n",
      "em\n",
      "enc\n"
     ]
    },
    {
     "name": "stderr",
     "output_type": "stream",
     "text": [
      "100%|██████████| 22/22 [00:01<00:00, 15.75it/s]\n"
     ]
    },
    {
     "name": "stdout",
     "output_type": "stream",
     "text": [
      "gomi\n",
      "dec\n",
      "loss\n",
      "cleargrads\n",
      "backward\n"
     ]
    },
    {
     "name": "stderr",
     "output_type": "stream",
     "text": [
      "\r",
      "  0%|          | 0/33 [00:00<?, ?it/s]"
     ]
    },
    {
     "name": "stdout",
     "output_type": "stream",
     "text": [
      "update\n",
      "end\n",
      "em\n",
      "enc\n"
     ]
    },
    {
     "name": "stderr",
     "output_type": "stream",
     "text": [
      "100%|██████████| 33/33 [00:02<00:00, 13.06it/s]\n"
     ]
    },
    {
     "name": "stdout",
     "output_type": "stream",
     "text": [
      "gomi\n",
      "dec\n",
      "loss\n",
      "cleargrads\n",
      "backward\n"
     ]
    },
    {
     "name": "stderr",
     "output_type": "stream",
     "text": [
      "\r",
      "  0%|          | 0/23 [00:00<?, ?it/s]"
     ]
    },
    {
     "name": "stdout",
     "output_type": "stream",
     "text": [
      "update\n",
      "end\n",
      "em\n",
      "enc\n"
     ]
    },
    {
     "name": "stderr",
     "output_type": "stream",
     "text": [
      "100%|██████████| 23/23 [00:01<00:00, 16.08it/s]\n"
     ]
    },
    {
     "name": "stdout",
     "output_type": "stream",
     "text": [
      "gomi\n",
      "dec\n",
      "loss\n",
      "cleargrads\n",
      "backward\n"
     ]
    },
    {
     "name": "stderr",
     "output_type": "stream",
     "text": [
      " 43%|████▎     | 6/14 [00:00<00:00, 57.63it/s]"
     ]
    },
    {
     "name": "stdout",
     "output_type": "stream",
     "text": [
      "update\n",
      "end\n",
      "em\n",
      "enc\n"
     ]
    },
    {
     "name": "stderr",
     "output_type": "stream",
     "text": [
      "100%|██████████| 14/14 [00:00<00:00, 39.76it/s]\n"
     ]
    },
    {
     "name": "stdout",
     "output_type": "stream",
     "text": [
      "gomi\n",
      "dec\n",
      "loss\n",
      "cleargrads\n",
      "backward\n"
     ]
    },
    {
     "name": "stderr",
     "output_type": "stream",
     "text": [
      " 43%|████▎     | 6/14 [00:00<00:00, 42.78it/s]"
     ]
    },
    {
     "name": "stdout",
     "output_type": "stream",
     "text": [
      "update\n",
      "end\n",
      "em\n",
      "enc\n"
     ]
    },
    {
     "name": "stderr",
     "output_type": "stream",
     "text": [
      "100%|██████████| 14/14 [00:00<00:00, 37.54it/s]\n"
     ]
    },
    {
     "name": "stdout",
     "output_type": "stream",
     "text": [
      "gomi\n",
      "dec\n",
      "loss\n",
      "cleargrads\n",
      "backward\n"
     ]
    },
    {
     "name": "stderr",
     "output_type": "stream",
     "text": [
      " 37%|███▋      | 7/19 [00:00<00:00, 54.58it/s]"
     ]
    },
    {
     "name": "stdout",
     "output_type": "stream",
     "text": [
      "update\n",
      "end\n",
      "em\n",
      "enc\n"
     ]
    },
    {
     "name": "stderr",
     "output_type": "stream",
     "text": [
      "100%|██████████| 19/19 [00:01<00:00, 16.34it/s]\n"
     ]
    },
    {
     "name": "stdout",
     "output_type": "stream",
     "text": [
      "gomi\n",
      "dec\n",
      "loss\n",
      "cleargrads\n",
      "backward\n"
     ]
    },
    {
     "name": "stderr",
     "output_type": "stream",
     "text": [
      " 50%|█████     | 11/22 [00:00<00:00, 105.44it/s]"
     ]
    },
    {
     "name": "stdout",
     "output_type": "stream",
     "text": [
      "update\n",
      "end\n",
      "em\n",
      "enc\n"
     ]
    },
    {
     "name": "stderr",
     "output_type": "stream",
     "text": [
      "100%|██████████| 22/22 [00:00<00:00, 34.26it/s] \n"
     ]
    },
    {
     "name": "stdout",
     "output_type": "stream",
     "text": [
      "gomi\n",
      "dec\n",
      "loss\n",
      "cleargrads\n",
      "backward\n"
     ]
    },
    {
     "name": "stderr",
     "output_type": "stream",
     "text": [
      "\r",
      "  0%|          | 0/18 [00:00<?, ?it/s]"
     ]
    },
    {
     "name": "stdout",
     "output_type": "stream",
     "text": [
      "update\n",
      "end\n",
      "em\n",
      "enc\n"
     ]
    },
    {
     "name": "stderr",
     "output_type": "stream",
     "text": [
      "100%|██████████| 18/18 [00:01<00:00, 17.10it/s]\n"
     ]
    },
    {
     "name": "stdout",
     "output_type": "stream",
     "text": [
      "gomi\n",
      "dec\n",
      "loss\n",
      "cleargrads\n",
      "backward\n"
     ]
    },
    {
     "name": "stderr",
     "output_type": "stream",
     "text": [
      "\r",
      "  0%|          | 0/28 [00:00<?, ?it/s]"
     ]
    },
    {
     "name": "stdout",
     "output_type": "stream",
     "text": [
      "update\n",
      "end\n",
      "em\n",
      "enc\n"
     ]
    },
    {
     "name": "stderr",
     "output_type": "stream",
     "text": [
      "100%|██████████| 28/28 [00:01<00:00, 19.58it/s]\n"
     ]
    },
    {
     "name": "stdout",
     "output_type": "stream",
     "text": [
      "gomi\n",
      "dec\n",
      "loss\n",
      "cleargrads\n",
      "backward\n"
     ]
    },
    {
     "name": "stderr",
     "output_type": "stream",
     "text": [
      " 47%|████▋     | 7/15 [00:00<00:00, 69.15it/s]"
     ]
    },
    {
     "name": "stdout",
     "output_type": "stream",
     "text": [
      "update\n",
      "end\n",
      "em\n",
      "enc\n"
     ]
    },
    {
     "name": "stderr",
     "output_type": "stream",
     "text": [
      "100%|██████████| 15/15 [00:00<00:00, 39.94it/s]\n"
     ]
    },
    {
     "name": "stdout",
     "output_type": "stream",
     "text": [
      "gomi\n",
      "dec\n",
      "loss\n",
      "cleargrads\n",
      "backward\n"
     ]
    },
    {
     "name": "stderr",
     "output_type": "stream",
     "text": [
      "\r",
      "  0%|          | 0/19 [00:00<?, ?it/s]"
     ]
    },
    {
     "name": "stdout",
     "output_type": "stream",
     "text": [
      "update\n",
      "end\n",
      "em\n",
      "enc\n"
     ]
    },
    {
     "name": "stderr",
     "output_type": "stream",
     "text": [
      "100%|██████████| 19/19 [00:01<00:00, 18.56it/s]\n"
     ]
    },
    {
     "name": "stdout",
     "output_type": "stream",
     "text": [
      "gomi\n",
      "dec\n",
      "loss\n",
      "cleargrads\n",
      "backward\n"
     ]
    },
    {
     "name": "stderr",
     "output_type": "stream",
     "text": [
      " 53%|█████▎    | 10/19 [00:00<00:00, 90.47it/s]"
     ]
    },
    {
     "name": "stdout",
     "output_type": "stream",
     "text": [
      "update\n",
      "end\n",
      "em\n",
      "enc\n"
     ]
    },
    {
     "name": "stderr",
     "output_type": "stream",
     "text": [
      "100%|██████████| 19/19 [00:00<00:00, 34.61it/s]\n"
     ]
    },
    {
     "name": "stdout",
     "output_type": "stream",
     "text": [
      "gomi\n",
      "dec\n",
      "loss\n",
      "cleargrads\n",
      "backward\n"
     ]
    },
    {
     "name": "stderr",
     "output_type": "stream",
     "text": [
      " 50%|█████     | 10/20 [00:00<00:00, 88.53it/s]"
     ]
    },
    {
     "name": "stdout",
     "output_type": "stream",
     "text": [
      "update\n",
      "end\n",
      "em\n",
      "enc\n"
     ]
    },
    {
     "name": "stderr",
     "output_type": "stream",
     "text": [
      "100%|██████████| 20/20 [00:00<00:00, 40.59it/s]\n"
     ]
    },
    {
     "name": "stdout",
     "output_type": "stream",
     "text": [
      "gomi\n",
      "dec\n",
      "loss\n",
      "cleargrads\n",
      "backward\n"
     ]
    },
    {
     "name": "stderr",
     "output_type": "stream",
     "text": [
      " 53%|█████▎    | 10/19 [00:00<00:00, 98.70it/s]"
     ]
    },
    {
     "name": "stdout",
     "output_type": "stream",
     "text": [
      "update\n",
      "end\n",
      "em\n",
      "enc\n"
     ]
    },
    {
     "name": "stderr",
     "output_type": "stream",
     "text": [
      "100%|██████████| 19/19 [00:00<00:00, 41.52it/s]\n"
     ]
    },
    {
     "name": "stdout",
     "output_type": "stream",
     "text": [
      "gomi\n",
      "dec\n",
      "loss\n",
      "cleargrads\n",
      "backward\n"
     ]
    },
    {
     "name": "stderr",
     "output_type": "stream",
     "text": [
      " 38%|███▊      | 10/26 [00:00<00:00, 90.43it/s]"
     ]
    },
    {
     "name": "stdout",
     "output_type": "stream",
     "text": [
      "update\n",
      "end\n",
      "em\n",
      "enc\n"
     ]
    },
    {
     "name": "stderr",
     "output_type": "stream",
     "text": [
      "100%|██████████| 26/26 [00:00<00:00, 29.85it/s]\n"
     ]
    },
    {
     "name": "stdout",
     "output_type": "stream",
     "text": [
      "gomi\n",
      "dec\n",
      "loss\n",
      "cleargrads\n",
      "backward\n"
     ]
    },
    {
     "name": "stderr",
     "output_type": "stream",
     "text": [
      "\r",
      "  0%|          | 0/22 [00:00<?, ?it/s]"
     ]
    },
    {
     "name": "stdout",
     "output_type": "stream",
     "text": [
      "update\n",
      "end\n",
      "em\n",
      "enc\n"
     ]
    },
    {
     "name": "stderr",
     "output_type": "stream",
     "text": [
      "100%|██████████| 22/22 [00:01<00:00, 14.98it/s]\n"
     ]
    },
    {
     "name": "stdout",
     "output_type": "stream",
     "text": [
      "gomi\n",
      "dec\n",
      "loss\n",
      "cleargrads\n",
      "backward\n"
     ]
    },
    {
     "name": "stderr",
     "output_type": "stream",
     "text": [
      "\r",
      "  0%|          | 0/20 [00:00<?, ?it/s]"
     ]
    },
    {
     "name": "stdout",
     "output_type": "stream",
     "text": [
      "update\n",
      "end\n",
      "em\n",
      "enc\n"
     ]
    },
    {
     "name": "stderr",
     "output_type": "stream",
     "text": [
      "100%|██████████| 20/20 [00:01<00:00, 11.06it/s]\n"
     ]
    },
    {
     "name": "stdout",
     "output_type": "stream",
     "text": [
      "gomi\n",
      "dec\n",
      "loss\n",
      "cleargrads\n",
      "backward\n"
     ]
    },
    {
     "name": "stderr",
     "output_type": "stream",
     "text": [
      "\r",
      "  0%|          | 0/19 [00:00<?, ?it/s]"
     ]
    },
    {
     "name": "stdout",
     "output_type": "stream",
     "text": [
      "update\n",
      "end\n",
      "em\n",
      "enc\n"
     ]
    },
    {
     "name": "stderr",
     "output_type": "stream",
     "text": [
      "100%|██████████| 19/19 [00:01<00:00, 18.06it/s]\n"
     ]
    },
    {
     "name": "stdout",
     "output_type": "stream",
     "text": [
      "gomi\n",
      "dec\n",
      "loss\n",
      "cleargrads\n",
      "backward\n"
     ]
    },
    {
     "name": "stderr",
     "output_type": "stream",
     "text": [
      "\r",
      "  0%|          | 0/27 [00:00<?, ?it/s]"
     ]
    },
    {
     "name": "stdout",
     "output_type": "stream",
     "text": [
      "update\n",
      "end\n",
      "em\n",
      "enc\n"
     ]
    },
    {
     "name": "stderr",
     "output_type": "stream",
     "text": [
      "100%|██████████| 27/27 [00:01<00:00, 22.81it/s]\n"
     ]
    },
    {
     "name": "stdout",
     "output_type": "stream",
     "text": [
      "gomi\n",
      "dec\n",
      "loss\n",
      "cleargrads\n",
      "backward\n"
     ]
    },
    {
     "name": "stderr",
     "output_type": "stream",
     "text": [
      " 55%|█████▌    | 11/20 [00:00<00:00, 90.87it/s]"
     ]
    },
    {
     "name": "stdout",
     "output_type": "stream",
     "text": [
      "update\n",
      "end\n",
      "em\n",
      "enc\n"
     ]
    },
    {
     "name": "stderr",
     "output_type": "stream",
     "text": [
      "100%|██████████| 20/20 [00:00<00:00, 51.23it/s]\n"
     ]
    },
    {
     "name": "stdout",
     "output_type": "stream",
     "text": [
      "gomi\n",
      "dec\n",
      "loss\n",
      "cleargrads\n",
      "backward\n"
     ]
    },
    {
     "name": "stderr",
     "output_type": "stream",
     "text": [
      " 41%|████      | 7/17 [00:00<00:00, 60.11it/s]"
     ]
    },
    {
     "name": "stdout",
     "output_type": "stream",
     "text": [
      "update\n",
      "end\n",
      "em\n",
      "enc\n"
     ]
    },
    {
     "name": "stderr",
     "output_type": "stream",
     "text": [
      "100%|██████████| 17/17 [00:00<00:00, 27.68it/s]\n"
     ]
    },
    {
     "name": "stdout",
     "output_type": "stream",
     "text": [
      "gomi\n",
      "dec\n",
      "loss\n",
      "cleargrads\n",
      "backward\n"
     ]
    },
    {
     "name": "stderr",
     "output_type": "stream",
     "text": [
      " 41%|████      | 9/22 [00:00<00:00, 79.77it/s]"
     ]
    },
    {
     "name": "stdout",
     "output_type": "stream",
     "text": [
      "update\n",
      "end\n",
      "em\n",
      "enc\n"
     ]
    },
    {
     "name": "stderr",
     "output_type": "stream",
     "text": [
      "100%|██████████| 22/22 [00:00<00:00, 41.00it/s]\n"
     ]
    },
    {
     "name": "stdout",
     "output_type": "stream",
     "text": [
      "gomi\n",
      "dec\n",
      "loss\n",
      "cleargrads\n",
      "backward\n"
     ]
    },
    {
     "name": "stderr",
     "output_type": "stream",
     "text": [
      " 42%|████▏     | 8/19 [00:00<00:00, 73.25it/s]"
     ]
    },
    {
     "name": "stdout",
     "output_type": "stream",
     "text": [
      "update\n",
      "end\n",
      "em\n",
      "enc\n"
     ]
    },
    {
     "name": "stderr",
     "output_type": "stream",
     "text": [
      "100%|██████████| 19/19 [00:00<00:00, 31.07it/s]\n"
     ]
    },
    {
     "name": "stdout",
     "output_type": "stream",
     "text": [
      "gomi\n",
      "dec\n",
      "loss\n",
      "cleargrads\n",
      "backward\n"
     ]
    },
    {
     "name": "stderr",
     "output_type": "stream",
     "text": [
      " 46%|████▌     | 12/26 [00:00<00:00, 107.71it/s]"
     ]
    },
    {
     "name": "stdout",
     "output_type": "stream",
     "text": [
      "update\n",
      "end\n",
      "em\n",
      "enc\n"
     ]
    },
    {
     "name": "stderr",
     "output_type": "stream",
     "text": [
      "100%|██████████| 26/26 [00:01<00:00, 20.67it/s] \n"
     ]
    },
    {
     "name": "stdout",
     "output_type": "stream",
     "text": [
      "gomi\n",
      "dec\n",
      "loss\n",
      "cleargrads\n",
      "backward\n"
     ]
    },
    {
     "name": "stderr",
     "output_type": "stream",
     "text": [
      "\r",
      "  0%|          | 0/17 [00:00<?, ?it/s]"
     ]
    },
    {
     "name": "stdout",
     "output_type": "stream",
     "text": [
      "update\n",
      "end\n",
      "em\n",
      "enc\n"
     ]
    },
    {
     "name": "stderr",
     "output_type": "stream",
     "text": [
      "100%|██████████| 17/17 [00:00<00:00, 19.94it/s]\n"
     ]
    },
    {
     "name": "stdout",
     "output_type": "stream",
     "text": [
      "gomi\n",
      "dec\n",
      "loss\n",
      "cleargrads\n",
      "backward\n"
     ]
    },
    {
     "name": "stderr",
     "output_type": "stream",
     "text": [
      "\r",
      "  0%|          | 0/16 [00:00<?, ?it/s]"
     ]
    },
    {
     "name": "stdout",
     "output_type": "stream",
     "text": [
      "update\n",
      "end\n",
      "em\n",
      "enc\n"
     ]
    },
    {
     "name": "stderr",
     "output_type": "stream",
     "text": [
      "100%|██████████| 16/16 [00:01<00:00, 14.71it/s]\n"
     ]
    },
    {
     "name": "stdout",
     "output_type": "stream",
     "text": [
      "gomi\n",
      "dec\n",
      "loss\n",
      "cleargrads\n",
      "backward\n"
     ]
    },
    {
     "name": "stderr",
     "output_type": "stream",
     "text": [
      " 47%|████▋     | 8/17 [00:00<00:00, 57.79it/s]"
     ]
    },
    {
     "name": "stdout",
     "output_type": "stream",
     "text": [
      "update\n",
      "end\n",
      "em\n",
      "enc\n"
     ]
    },
    {
     "name": "stderr",
     "output_type": "stream",
     "text": [
      "100%|██████████| 17/17 [00:00<00:00, 30.37it/s]\n"
     ]
    },
    {
     "name": "stdout",
     "output_type": "stream",
     "text": [
      "gomi\n",
      "dec\n",
      "loss\n",
      "cleargrads\n",
      "backward\n"
     ]
    },
    {
     "name": "stderr",
     "output_type": "stream",
     "text": [
      " 57%|█████▋    | 12/21 [00:00<00:00, 99.59it/s]"
     ]
    },
    {
     "name": "stdout",
     "output_type": "stream",
     "text": [
      "update\n",
      "end\n",
      "em\n",
      "enc\n"
     ]
    },
    {
     "name": "stderr",
     "output_type": "stream",
     "text": [
      "100%|██████████| 21/21 [00:00<00:00, 51.24it/s]\n"
     ]
    },
    {
     "name": "stdout",
     "output_type": "stream",
     "text": [
      "gomi\n",
      "dec\n",
      "loss\n",
      "cleargrads\n",
      "backward\n"
     ]
    },
    {
     "name": "stderr",
     "output_type": "stream",
     "text": [
      " 50%|█████     | 6/12 [00:00<00:00, 52.84it/s]"
     ]
    },
    {
     "name": "stdout",
     "output_type": "stream",
     "text": [
      "update\n",
      "end\n",
      "em\n",
      "enc\n"
     ]
    },
    {
     "name": "stderr",
     "output_type": "stream",
     "text": [
      "100%|██████████| 12/12 [00:00<00:00, 15.63it/s]\n"
     ]
    },
    {
     "name": "stdout",
     "output_type": "stream",
     "text": [
      "gomi\n",
      "dec\n",
      "loss\n",
      "cleargrads\n",
      "backward\n"
     ]
    },
    {
     "name": "stderr",
     "output_type": "stream",
     "text": [
      " 40%|████      | 12/30 [00:00<00:00, 118.39it/s]"
     ]
    },
    {
     "name": "stdout",
     "output_type": "stream",
     "text": [
      "update\n",
      "end\n",
      "em\n",
      "enc\n"
     ]
    },
    {
     "name": "stderr",
     "output_type": "stream",
     "text": [
      "100%|██████████| 30/30 [00:00<00:00, 36.00it/s] \n"
     ]
    },
    {
     "name": "stdout",
     "output_type": "stream",
     "text": [
      "gomi\n",
      "dec\n",
      "loss\n",
      "cleargrads\n",
      "backward\n"
     ]
    },
    {
     "name": "stderr",
     "output_type": "stream",
     "text": [
      " 38%|███▊      | 10/26 [00:00<00:00, 87.23it/s]"
     ]
    },
    {
     "name": "stdout",
     "output_type": "stream",
     "text": [
      "update\n",
      "end\n",
      "em\n",
      "enc\n"
     ]
    },
    {
     "name": "stderr",
     "output_type": "stream",
     "text": [
      "100%|██████████| 26/26 [00:01<00:00, 20.13it/s]\n"
     ]
    },
    {
     "name": "stdout",
     "output_type": "stream",
     "text": [
      "gomi\n",
      "dec\n",
      "loss\n",
      "cleargrads\n",
      "backward\n"
     ]
    },
    {
     "name": "stderr",
     "output_type": "stream",
     "text": [
      " 50%|█████     | 9/18 [00:00<00:00, 70.71it/s]"
     ]
    },
    {
     "name": "stdout",
     "output_type": "stream",
     "text": [
      "update\n",
      "end\n",
      "em\n",
      "enc\n"
     ]
    },
    {
     "name": "stderr",
     "output_type": "stream",
     "text": [
      "100%|██████████| 18/18 [00:00<00:00, 21.71it/s]\n"
     ]
    },
    {
     "name": "stdout",
     "output_type": "stream",
     "text": [
      "gomi\n",
      "dec\n",
      "loss\n",
      "cleargrads\n",
      "backward\n"
     ]
    },
    {
     "name": "stderr",
     "output_type": "stream",
     "text": [
      " 47%|████▋     | 22/47 [00:00<00:00, 214.91it/s]"
     ]
    },
    {
     "name": "stdout",
     "output_type": "stream",
     "text": [
      "update\n",
      "end\n",
      "em\n",
      "enc\n"
     ]
    },
    {
     "name": "stderr",
     "output_type": "stream",
     "text": [
      "100%|██████████| 47/47 [00:01<00:00, 29.36it/s] \n"
     ]
    },
    {
     "name": "stdout",
     "output_type": "stream",
     "text": [
      "gomi\n",
      "dec\n",
      "loss\n",
      "cleargrads\n",
      "backward\n"
     ]
    },
    {
     "name": "stderr",
     "output_type": "stream",
     "text": [
      " 35%|███▍      | 9/26 [00:00<00:00, 89.32it/s]"
     ]
    },
    {
     "name": "stdout",
     "output_type": "stream",
     "text": [
      "update\n",
      "end\n",
      "em\n",
      "enc\n"
     ]
    },
    {
     "name": "stderr",
     "output_type": "stream",
     "text": [
      "100%|██████████| 26/26 [00:01<00:00, 20.81it/s]\n"
     ]
    },
    {
     "name": "stdout",
     "output_type": "stream",
     "text": [
      "gomi\n",
      "dec\n",
      "loss\n",
      "cleargrads\n",
      "backward\n"
     ]
    },
    {
     "name": "stderr",
     "output_type": "stream",
     "text": [
      " 59%|█████▉    | 10/17 [00:00<00:00, 81.97it/s]"
     ]
    },
    {
     "name": "stdout",
     "output_type": "stream",
     "text": [
      "update\n",
      "end\n",
      "em\n",
      "enc\n"
     ]
    },
    {
     "name": "stderr",
     "output_type": "stream",
     "text": [
      "100%|██████████| 17/17 [00:00<00:00, 55.15it/s]\n"
     ]
    },
    {
     "name": "stdout",
     "output_type": "stream",
     "text": [
      "gomi\n",
      "dec\n",
      "loss\n",
      "cleargrads\n",
      "backward\n"
     ]
    },
    {
     "name": "stderr",
     "output_type": "stream",
     "text": [
      " 38%|███▊      | 8/21 [00:00<00:00, 58.58it/s]"
     ]
    },
    {
     "name": "stdout",
     "output_type": "stream",
     "text": [
      "update\n",
      "end\n",
      "em\n",
      "enc\n"
     ]
    },
    {
     "name": "stderr",
     "output_type": "stream",
     "text": [
      "100%|██████████| 21/21 [00:00<00:00, 30.77it/s]\n"
     ]
    },
    {
     "name": "stdout",
     "output_type": "stream",
     "text": [
      "gomi\n",
      "dec\n",
      "loss\n",
      "cleargrads\n",
      "backward\n"
     ]
    },
    {
     "name": "stderr",
     "output_type": "stream",
     "text": [
      "\r",
      "  0%|          | 0/25 [00:00<?, ?it/s]"
     ]
    },
    {
     "name": "stdout",
     "output_type": "stream",
     "text": [
      "update\n",
      "end\n",
      "em\n",
      "enc\n"
     ]
    },
    {
     "name": "stderr",
     "output_type": "stream",
     "text": [
      "100%|██████████| 25/25 [00:01<00:00, 14.03it/s]\n"
     ]
    },
    {
     "name": "stdout",
     "output_type": "stream",
     "text": [
      "gomi\n",
      "dec\n",
      "loss\n",
      "cleargrads\n",
      "backward\n"
     ]
    },
    {
     "name": "stderr",
     "output_type": "stream",
     "text": [
      "\r",
      "  0%|          | 0/31 [00:00<?, ?it/s]"
     ]
    },
    {
     "name": "stdout",
     "output_type": "stream",
     "text": [
      "update\n",
      "end\n",
      "em\n",
      "enc\n"
     ]
    },
    {
     "name": "stderr",
     "output_type": "stream",
     "text": [
      "100%|██████████| 31/31 [00:01<00:00, 18.99it/s]\n"
     ]
    },
    {
     "name": "stdout",
     "output_type": "stream",
     "text": [
      "gomi\n",
      "dec\n",
      "loss\n",
      "cleargrads\n",
      "backward\n"
     ]
    },
    {
     "name": "stderr",
     "output_type": "stream",
     "text": [
      " 47%|████▋     | 7/15 [00:00<00:00, 51.57it/s]"
     ]
    },
    {
     "name": "stdout",
     "output_type": "stream",
     "text": [
      "update\n",
      "end\n",
      "em\n",
      "enc\n"
     ]
    },
    {
     "name": "stderr",
     "output_type": "stream",
     "text": [
      "100%|██████████| 15/15 [00:00<00:00, 36.14it/s]\n"
     ]
    },
    {
     "name": "stdout",
     "output_type": "stream",
     "text": [
      "gomi\n",
      "dec\n",
      "loss\n",
      "cleargrads\n",
      "backward\n"
     ]
    },
    {
     "name": "stderr",
     "output_type": "stream",
     "text": [
      " 57%|█████▋    | 12/21 [00:00<00:00, 90.42it/s]"
     ]
    },
    {
     "name": "stdout",
     "output_type": "stream",
     "text": [
      "update\n",
      "end\n",
      "em\n",
      "enc\n"
     ]
    },
    {
     "name": "stderr",
     "output_type": "stream",
     "text": [
      "100%|██████████| 21/21 [00:01<00:00, 20.60it/s]\n"
     ]
    },
    {
     "name": "stdout",
     "output_type": "stream",
     "text": [
      "gomi\n",
      "dec\n",
      "loss\n",
      "cleargrads\n",
      "backward\n"
     ]
    },
    {
     "name": "stderr",
     "output_type": "stream",
     "text": [
      "\r",
      "  0%|          | 0/22 [00:00<?, ?it/s]"
     ]
    },
    {
     "name": "stdout",
     "output_type": "stream",
     "text": [
      "update\n",
      "end\n",
      "em\n",
      "enc\n"
     ]
    },
    {
     "name": "stderr",
     "output_type": "stream",
     "text": [
      "100%|██████████| 22/22 [00:01<00:00, 17.20it/s]\n"
     ]
    },
    {
     "name": "stdout",
     "output_type": "stream",
     "text": [
      "gomi\n",
      "dec\n",
      "loss\n",
      "cleargrads\n",
      "backward\n"
     ]
    },
    {
     "name": "stderr",
     "output_type": "stream",
     "text": [
      " 39%|███▉      | 9/23 [00:00<00:00, 76.54it/s]"
     ]
    },
    {
     "name": "stdout",
     "output_type": "stream",
     "text": [
      "update\n",
      "end\n",
      "em\n",
      "enc\n"
     ]
    },
    {
     "name": "stderr",
     "output_type": "stream",
     "text": [
      "100%|██████████| 23/23 [00:00<00:00, 32.71it/s]\n"
     ]
    },
    {
     "name": "stdout",
     "output_type": "stream",
     "text": [
      "gomi\n",
      "dec\n",
      "loss\n",
      "cleargrads\n",
      "backward\n"
     ]
    },
    {
     "name": "stderr",
     "output_type": "stream",
     "text": [
      " 53%|█████▎    | 8/15 [00:00<00:00, 67.18it/s]"
     ]
    },
    {
     "name": "stdout",
     "output_type": "stream",
     "text": [
      "update\n",
      "end\n",
      "em\n",
      "enc\n"
     ]
    },
    {
     "name": "stderr",
     "output_type": "stream",
     "text": [
      "100%|██████████| 15/15 [00:00<00:00, 45.83it/s]\n"
     ]
    },
    {
     "name": "stdout",
     "output_type": "stream",
     "text": [
      "gomi\n",
      "dec\n",
      "loss\n",
      "cleargrads\n",
      "backward\n"
     ]
    },
    {
     "name": "stderr",
     "output_type": "stream",
     "text": [
      " 50%|█████     | 11/22 [00:00<00:00, 85.15it/s]"
     ]
    },
    {
     "name": "stdout",
     "output_type": "stream",
     "text": [
      "update\n",
      "end\n",
      "em\n",
      "enc\n"
     ]
    },
    {
     "name": "stderr",
     "output_type": "stream",
     "text": [
      "100%|██████████| 22/22 [00:00<00:00, 23.64it/s]\n"
     ]
    },
    {
     "name": "stdout",
     "output_type": "stream",
     "text": [
      "gomi\n",
      "dec\n",
      "loss\n",
      "cleargrads\n",
      "backward\n"
     ]
    },
    {
     "name": "stderr",
     "output_type": "stream",
     "text": [
      " 43%|████▎     | 9/21 [00:00<00:00, 75.95it/s]"
     ]
    },
    {
     "name": "stdout",
     "output_type": "stream",
     "text": [
      "update\n",
      "end\n",
      "em\n",
      "enc\n"
     ]
    },
    {
     "name": "stderr",
     "output_type": "stream",
     "text": [
      "100%|██████████| 21/21 [00:00<00:00, 40.09it/s]\n"
     ]
    },
    {
     "name": "stdout",
     "output_type": "stream",
     "text": [
      "gomi\n",
      "dec\n",
      "loss\n",
      "cleargrads\n",
      "backward\n"
     ]
    },
    {
     "name": "stderr",
     "output_type": "stream",
     "text": [
      " 39%|███▉      | 9/23 [00:00<00:00, 79.34it/s]"
     ]
    },
    {
     "name": "stdout",
     "output_type": "stream",
     "text": [
      "update\n",
      "end\n",
      "em\n",
      "enc\n"
     ]
    },
    {
     "name": "stderr",
     "output_type": "stream",
     "text": [
      "100%|██████████| 23/23 [00:01<00:00, 16.20it/s]\n"
     ]
    },
    {
     "name": "stdout",
     "output_type": "stream",
     "text": [
      "gomi\n",
      "dec\n",
      "loss\n",
      "cleargrads\n",
      "backward\n"
     ]
    },
    {
     "name": "stderr",
     "output_type": "stream",
     "text": [
      " 38%|███▊      | 8/21 [00:00<00:00, 72.54it/s]"
     ]
    },
    {
     "name": "stdout",
     "output_type": "stream",
     "text": [
      "update\n",
      "end\n",
      "em\n",
      "enc\n"
     ]
    },
    {
     "name": "stderr",
     "output_type": "stream",
     "text": [
      "100%|██████████| 21/21 [00:00<00:00, 37.93it/s]\n"
     ]
    },
    {
     "name": "stdout",
     "output_type": "stream",
     "text": [
      "gomi\n",
      "dec\n",
      "loss\n",
      "cleargrads\n",
      "backward\n"
     ]
    },
    {
     "name": "stderr",
     "output_type": "stream",
     "text": [
      " 43%|████▎     | 6/14 [00:00<00:00, 55.88it/s]"
     ]
    },
    {
     "name": "stdout",
     "output_type": "stream",
     "text": [
      "update\n",
      "end\n",
      "em\n",
      "enc\n"
     ]
    },
    {
     "name": "stderr",
     "output_type": "stream",
     "text": [
      "100%|██████████| 14/14 [00:00<00:00, 33.24it/s]\n"
     ]
    },
    {
     "name": "stdout",
     "output_type": "stream",
     "text": [
      "gomi\n",
      "dec\n",
      "loss\n",
      "cleargrads\n",
      "backward\n"
     ]
    },
    {
     "name": "stderr",
     "output_type": "stream",
     "text": [
      "\r",
      "  0%|          | 0/18 [00:00<?, ?it/s]"
     ]
    },
    {
     "name": "stdout",
     "output_type": "stream",
     "text": [
      "update\n",
      "end\n",
      "em\n",
      "enc\n"
     ]
    },
    {
     "name": "stderr",
     "output_type": "stream",
     "text": [
      "100%|██████████| 18/18 [00:00<00:00, 19.93it/s]\n"
     ]
    },
    {
     "name": "stdout",
     "output_type": "stream",
     "text": [
      "gomi\n",
      "dec\n",
      "loss\n",
      "cleargrads\n",
      "backward\n"
     ]
    },
    {
     "name": "stderr",
     "output_type": "stream",
     "text": [
      " 41%|████      | 7/17 [00:00<00:00, 52.76it/s]"
     ]
    },
    {
     "name": "stdout",
     "output_type": "stream",
     "text": [
      "update\n",
      "end\n",
      "em\n",
      "enc\n"
     ]
    },
    {
     "name": "stderr",
     "output_type": "stream",
     "text": [
      "100%|██████████| 17/17 [00:00<00:00, 29.33it/s]\n"
     ]
    },
    {
     "name": "stdout",
     "output_type": "stream",
     "text": [
      "gomi\n",
      "dec\n",
      "loss\n",
      "cleargrads\n",
      "backward\n"
     ]
    },
    {
     "name": "stderr",
     "output_type": "stream",
     "text": [
      "\r",
      "  0%|          | 0/24 [00:00<?, ?it/s]"
     ]
    },
    {
     "name": "stdout",
     "output_type": "stream",
     "text": [
      "update\n",
      "end\n",
      "em\n",
      "enc\n"
     ]
    },
    {
     "name": "stderr",
     "output_type": "stream",
     "text": [
      "100%|██████████| 24/24 [00:01<00:00, 16.25it/s]\n"
     ]
    },
    {
     "name": "stdout",
     "output_type": "stream",
     "text": [
      "gomi\n",
      "dec\n",
      "loss\n",
      "cleargrads\n",
      "backward\n"
     ]
    },
    {
     "ename": "OutOfMemoryError",
     "evalue": "out of memory to allocate 17408000 bytes (total 10801090048 bytes)",
     "output_type": "error",
     "traceback": [
      "\u001b[0;31m---------------------------------------------------------------------------\u001b[0m",
      "\u001b[0;31mOutOfMemoryError\u001b[0m                          Traceback (most recent call last)",
      "\u001b[0;32m<ipython-input-8-2dd8e1233208>\u001b[0m in \u001b[0;36m<module>\u001b[0;34m()\u001b[0m\n\u001b[1;32m     12\u001b[0m         \u001b[0mmodel\u001b[0m\u001b[0;34m.\u001b[0m\u001b[0mcleargrads\u001b[0m\u001b[0;34m(\u001b[0m\u001b[0;34m)\u001b[0m\u001b[0;34m\u001b[0m\u001b[0m\n\u001b[1;32m     13\u001b[0m         \u001b[0mprint\u001b[0m\u001b[0;34m(\u001b[0m\u001b[0;34m\"backward\"\u001b[0m\u001b[0;34m)\u001b[0m\u001b[0;34m\u001b[0m\u001b[0m\n\u001b[0;32m---> 14\u001b[0;31m         \u001b[0mloss\u001b[0m\u001b[0;34m.\u001b[0m\u001b[0mbackward\u001b[0m\u001b[0;34m(\u001b[0m\u001b[0;34m)\u001b[0m\u001b[0;34m\u001b[0m\u001b[0m\n\u001b[0m\u001b[1;32m     15\u001b[0m         \u001b[0mprint\u001b[0m\u001b[0;34m(\u001b[0m\u001b[0;34m\"update\"\u001b[0m\u001b[0;34m)\u001b[0m\u001b[0;34m\u001b[0m\u001b[0m\n\u001b[1;32m     16\u001b[0m         \u001b[0moptimizer\u001b[0m\u001b[0;34m.\u001b[0m\u001b[0mupdate\u001b[0m\u001b[0;34m(\u001b[0m\u001b[0;34m)\u001b[0m\u001b[0;34m\u001b[0m\u001b[0m\n",
      "\u001b[0;32m~/.pyenv/versions/anaconda3-5.0.1/lib/python3.6/site-packages/chainer/variable.py\u001b[0m in \u001b[0;36mbackward\u001b[0;34m(self, retain_grad, enable_double_backprop, loss_scale)\u001b[0m\n\u001b[1;32m    964\u001b[0m         \"\"\"\n\u001b[1;32m    965\u001b[0m         \u001b[0;32mwith\u001b[0m \u001b[0mchainer\u001b[0m\u001b[0;34m.\u001b[0m\u001b[0musing_config\u001b[0m\u001b[0;34m(\u001b[0m\u001b[0;34m'enable_backprop'\u001b[0m\u001b[0;34m,\u001b[0m \u001b[0menable_double_backprop\u001b[0m\u001b[0;34m)\u001b[0m\u001b[0;34m:\u001b[0m\u001b[0;34m\u001b[0m\u001b[0m\n\u001b[0;32m--> 966\u001b[0;31m             \u001b[0mself\u001b[0m\u001b[0;34m.\u001b[0m\u001b[0m_backward_main\u001b[0m\u001b[0;34m(\u001b[0m\u001b[0mretain_grad\u001b[0m\u001b[0;34m,\u001b[0m \u001b[0mloss_scale\u001b[0m\u001b[0;34m)\u001b[0m\u001b[0;34m\u001b[0m\u001b[0m\n\u001b[0m\u001b[1;32m    967\u001b[0m \u001b[0;34m\u001b[0m\u001b[0m\n\u001b[1;32m    968\u001b[0m     \u001b[0;32mdef\u001b[0m \u001b[0m_backward_main\u001b[0m\u001b[0;34m(\u001b[0m\u001b[0mself\u001b[0m\u001b[0;34m,\u001b[0m \u001b[0mretain_grad\u001b[0m\u001b[0;34m,\u001b[0m \u001b[0mloss_scale\u001b[0m\u001b[0;34m)\u001b[0m\u001b[0;34m:\u001b[0m\u001b[0;34m\u001b[0m\u001b[0m\n",
      "\u001b[0;32m~/.pyenv/versions/anaconda3-5.0.1/lib/python3.6/site-packages/chainer/variable.py\u001b[0m in \u001b[0;36m_backward_main\u001b[0;34m(self, retain_grad, loss_scale)\u001b[0m\n\u001b[1;32m   1093\u001b[0m \u001b[0;34m\u001b[0m\u001b[0m\n\u001b[1;32m   1094\u001b[0m             gxs = func.backward_accumulate(\n\u001b[0;32m-> 1095\u001b[0;31m                 target_input_indexes, out_grad, in_grad)\n\u001b[0m\u001b[1;32m   1096\u001b[0m \u001b[0;34m\u001b[0m\u001b[0m\n\u001b[1;32m   1097\u001b[0m             \u001b[0;32massert\u001b[0m \u001b[0mlen\u001b[0m\u001b[0;34m(\u001b[0m\u001b[0mgxs\u001b[0m\u001b[0;34m)\u001b[0m \u001b[0;34m==\u001b[0m \u001b[0mlen\u001b[0m\u001b[0;34m(\u001b[0m\u001b[0min_grad\u001b[0m\u001b[0;34m)\u001b[0m\u001b[0;34m\u001b[0m\u001b[0m\n",
      "\u001b[0;32m~/.pyenv/versions/anaconda3-5.0.1/lib/python3.6/site-packages/chainer/function_node.py\u001b[0m in \u001b[0;36mbackward_accumulate\u001b[0;34m(self, target_input_indexes, grad_outputs, grad_inputs)\u001b[0m\n\u001b[1;32m    546\u001b[0m         \u001b[0;31m# The default implementation uses backward(). You can override this\u001b[0m\u001b[0;34m\u001b[0m\u001b[0;34m\u001b[0m\u001b[0m\n\u001b[1;32m    547\u001b[0m         \u001b[0;31m# method without using backward().\u001b[0m\u001b[0;34m\u001b[0m\u001b[0;34m\u001b[0m\u001b[0m\n\u001b[0;32m--> 548\u001b[0;31m         \u001b[0mgxs\u001b[0m \u001b[0;34m=\u001b[0m \u001b[0mself\u001b[0m\u001b[0;34m.\u001b[0m\u001b[0mbackward\u001b[0m\u001b[0;34m(\u001b[0m\u001b[0mtarget_input_indexes\u001b[0m\u001b[0;34m,\u001b[0m \u001b[0mgrad_outputs\u001b[0m\u001b[0;34m)\u001b[0m\u001b[0;34m\u001b[0m\u001b[0m\n\u001b[0m\u001b[1;32m    549\u001b[0m \u001b[0;34m\u001b[0m\u001b[0m\n\u001b[1;32m    550\u001b[0m         \u001b[0mlen_gxs\u001b[0m \u001b[0;34m=\u001b[0m \u001b[0mlen\u001b[0m\u001b[0;34m(\u001b[0m\u001b[0mgxs\u001b[0m\u001b[0;34m)\u001b[0m\u001b[0;34m\u001b[0m\u001b[0m\n",
      "\u001b[0;32m~/.pyenv/versions/anaconda3-5.0.1/lib/python3.6/site-packages/chainer/functions/math/basic_math.py\u001b[0m in \u001b[0;36mbackward\u001b[0;34m(self, indexes, gy)\u001b[0m\n\u001b[1;32m    304\u001b[0m     \u001b[0;32mdef\u001b[0m \u001b[0mbackward\u001b[0m\u001b[0;34m(\u001b[0m\u001b[0mself\u001b[0m\u001b[0;34m,\u001b[0m \u001b[0mindexes\u001b[0m\u001b[0;34m,\u001b[0m \u001b[0mgy\u001b[0m\u001b[0;34m)\u001b[0m\u001b[0;34m:\u001b[0m\u001b[0;34m\u001b[0m\u001b[0m\n\u001b[1;32m    305\u001b[0m         \u001b[0mxs\u001b[0m \u001b[0;34m=\u001b[0m \u001b[0mself\u001b[0m\u001b[0;34m.\u001b[0m\u001b[0mget_retained_inputs\u001b[0m\u001b[0;34m(\u001b[0m\u001b[0;34m)\u001b[0m\u001b[0;34m\u001b[0m\u001b[0m\n\u001b[0;32m--> 306\u001b[0;31m         \u001b[0;32mreturn\u001b[0m \u001b[0mtuple\u001b[0m\u001b[0;34m(\u001b[0m\u001b[0mgy\u001b[0m\u001b[0;34m[\u001b[0m\u001b[0;36m0\u001b[0m\u001b[0;34m]\u001b[0m \u001b[0;34m*\u001b[0m \u001b[0mxs\u001b[0m\u001b[0;34m[\u001b[0m\u001b[0;36m1\u001b[0m \u001b[0;34m-\u001b[0m \u001b[0mi\u001b[0m\u001b[0;34m]\u001b[0m \u001b[0;32mfor\u001b[0m \u001b[0mi\u001b[0m \u001b[0;32min\u001b[0m \u001b[0mindexes\u001b[0m\u001b[0;34m)\u001b[0m\u001b[0;34m\u001b[0m\u001b[0m\n\u001b[0m\u001b[1;32m    307\u001b[0m \u001b[0;34m\u001b[0m\u001b[0m\n\u001b[1;32m    308\u001b[0m \u001b[0;34m\u001b[0m\u001b[0m\n",
      "\u001b[0;32m~/.pyenv/versions/anaconda3-5.0.1/lib/python3.6/site-packages/chainer/functions/math/basic_math.py\u001b[0m in \u001b[0;36m<genexpr>\u001b[0;34m(.0)\u001b[0m\n\u001b[1;32m    304\u001b[0m     \u001b[0;32mdef\u001b[0m \u001b[0mbackward\u001b[0m\u001b[0;34m(\u001b[0m\u001b[0mself\u001b[0m\u001b[0;34m,\u001b[0m \u001b[0mindexes\u001b[0m\u001b[0;34m,\u001b[0m \u001b[0mgy\u001b[0m\u001b[0;34m)\u001b[0m\u001b[0;34m:\u001b[0m\u001b[0;34m\u001b[0m\u001b[0m\n\u001b[1;32m    305\u001b[0m         \u001b[0mxs\u001b[0m \u001b[0;34m=\u001b[0m \u001b[0mself\u001b[0m\u001b[0;34m.\u001b[0m\u001b[0mget_retained_inputs\u001b[0m\u001b[0;34m(\u001b[0m\u001b[0;34m)\u001b[0m\u001b[0;34m\u001b[0m\u001b[0m\n\u001b[0;32m--> 306\u001b[0;31m         \u001b[0;32mreturn\u001b[0m \u001b[0mtuple\u001b[0m\u001b[0;34m(\u001b[0m\u001b[0mgy\u001b[0m\u001b[0;34m[\u001b[0m\u001b[0;36m0\u001b[0m\u001b[0;34m]\u001b[0m \u001b[0;34m*\u001b[0m \u001b[0mxs\u001b[0m\u001b[0;34m[\u001b[0m\u001b[0;36m1\u001b[0m \u001b[0;34m-\u001b[0m \u001b[0mi\u001b[0m\u001b[0;34m]\u001b[0m \u001b[0;32mfor\u001b[0m \u001b[0mi\u001b[0m \u001b[0;32min\u001b[0m \u001b[0mindexes\u001b[0m\u001b[0;34m)\u001b[0m\u001b[0;34m\u001b[0m\u001b[0m\n\u001b[0m\u001b[1;32m    307\u001b[0m \u001b[0;34m\u001b[0m\u001b[0m\n\u001b[1;32m    308\u001b[0m \u001b[0;34m\u001b[0m\u001b[0m\n",
      "\u001b[0;32m~/.pyenv/versions/anaconda3-5.0.1/lib/python3.6/site-packages/chainer/functions/math/basic_math.py\u001b[0m in \u001b[0;36mmul\u001b[0;34m(self, rhs)\u001b[0m\n\u001b[1;32m    335\u001b[0m \u001b[0;34m\u001b[0m\u001b[0m\n\u001b[1;32m    336\u001b[0m     \u001b[0;32mif\u001b[0m \u001b[0misinstance\u001b[0m\u001b[0;34m(\u001b[0m\u001b[0mrhs\u001b[0m\u001b[0;34m,\u001b[0m \u001b[0mvariable\u001b[0m\u001b[0;34m.\u001b[0m\u001b[0mVariable\u001b[0m\u001b[0;34m)\u001b[0m\u001b[0;34m:\u001b[0m\u001b[0;34m\u001b[0m\u001b[0m\n\u001b[0;32m--> 337\u001b[0;31m         \u001b[0;32mreturn\u001b[0m \u001b[0mMul\u001b[0m\u001b[0;34m(\u001b[0m\u001b[0;34m)\u001b[0m\u001b[0;34m.\u001b[0m\u001b[0mapply\u001b[0m\u001b[0;34m(\u001b[0m\u001b[0;34m(\u001b[0m\u001b[0mself\u001b[0m\u001b[0;34m,\u001b[0m \u001b[0mrhs\u001b[0m\u001b[0;34m)\u001b[0m\u001b[0;34m)\u001b[0m\u001b[0;34m[\u001b[0m\u001b[0;36m0\u001b[0m\u001b[0;34m]\u001b[0m\u001b[0;34m\u001b[0m\u001b[0m\n\u001b[0m\u001b[1;32m    338\u001b[0m     \u001b[0m_check_constant_type\u001b[0m\u001b[0;34m(\u001b[0m\u001b[0mrhs\u001b[0m\u001b[0;34m)\u001b[0m\u001b[0;34m\u001b[0m\u001b[0m\n\u001b[1;32m    339\u001b[0m     \u001b[0;32mreturn\u001b[0m \u001b[0mMulConstant\u001b[0m\u001b[0;34m(\u001b[0m\u001b[0mrhs\u001b[0m\u001b[0;34m)\u001b[0m\u001b[0;34m.\u001b[0m\u001b[0mapply\u001b[0m\u001b[0;34m(\u001b[0m\u001b[0;34m(\u001b[0m\u001b[0mself\u001b[0m\u001b[0;34m,\u001b[0m\u001b[0;34m)\u001b[0m\u001b[0;34m)\u001b[0m\u001b[0;34m[\u001b[0m\u001b[0;36m0\u001b[0m\u001b[0;34m]\u001b[0m\u001b[0;34m\u001b[0m\u001b[0m\n",
      "\u001b[0;32m~/.pyenv/versions/anaconda3-5.0.1/lib/python3.6/site-packages/chainer/function_node.py\u001b[0m in \u001b[0;36mapply\u001b[0;34m(self, inputs)\u001b[0m\n\u001b[1;32m    256\u001b[0m             \u001b[0mself\u001b[0m\u001b[0;34m.\u001b[0m\u001b[0m_input_indexes_to_retain\u001b[0m \u001b[0;34m=\u001b[0m \u001b[0;32mNone\u001b[0m\u001b[0;34m\u001b[0m\u001b[0m\n\u001b[1;32m    257\u001b[0m             \u001b[0mself\u001b[0m\u001b[0;34m.\u001b[0m\u001b[0m_output_indexes_to_retain\u001b[0m \u001b[0;34m=\u001b[0m \u001b[0;32mNone\u001b[0m\u001b[0;34m\u001b[0m\u001b[0m\n\u001b[0;32m--> 258\u001b[0;31m             \u001b[0moutputs\u001b[0m \u001b[0;34m=\u001b[0m \u001b[0mself\u001b[0m\u001b[0;34m.\u001b[0m\u001b[0mforward\u001b[0m\u001b[0;34m(\u001b[0m\u001b[0min_data\u001b[0m\u001b[0;34m)\u001b[0m\u001b[0;34m\u001b[0m\u001b[0m\n\u001b[0m\u001b[1;32m    259\u001b[0m \u001b[0;34m\u001b[0m\u001b[0m\n\u001b[1;32m    260\u001b[0m         \u001b[0;31m# Check for output array types\u001b[0m\u001b[0;34m\u001b[0m\u001b[0;34m\u001b[0m\u001b[0m\n",
      "\u001b[0;32m~/.pyenv/versions/anaconda3-5.0.1/lib/python3.6/site-packages/chainer/functions/math/basic_math.py\u001b[0m in \u001b[0;36mforward\u001b[0;34m(self, x)\u001b[0m\n\u001b[1;32m    300\u001b[0m     \u001b[0;32mdef\u001b[0m \u001b[0mforward\u001b[0m\u001b[0;34m(\u001b[0m\u001b[0mself\u001b[0m\u001b[0;34m,\u001b[0m \u001b[0mx\u001b[0m\u001b[0;34m)\u001b[0m\u001b[0;34m:\u001b[0m\u001b[0;34m\u001b[0m\u001b[0m\n\u001b[1;32m    301\u001b[0m         \u001b[0mself\u001b[0m\u001b[0;34m.\u001b[0m\u001b[0mretain_inputs\u001b[0m\u001b[0;34m(\u001b[0m\u001b[0;34m(\u001b[0m\u001b[0;36m0\u001b[0m\u001b[0;34m,\u001b[0m \u001b[0;36m1\u001b[0m\u001b[0;34m)\u001b[0m\u001b[0;34m)\u001b[0m\u001b[0;34m\u001b[0m\u001b[0m\n\u001b[0;32m--> 302\u001b[0;31m         \u001b[0;32mreturn\u001b[0m \u001b[0mutils\u001b[0m\u001b[0;34m.\u001b[0m\u001b[0mforce_array\u001b[0m\u001b[0;34m(\u001b[0m\u001b[0mx\u001b[0m\u001b[0;34m[\u001b[0m\u001b[0;36m0\u001b[0m\u001b[0;34m]\u001b[0m \u001b[0;34m*\u001b[0m \u001b[0mx\u001b[0m\u001b[0;34m[\u001b[0m\u001b[0;36m1\u001b[0m\u001b[0;34m]\u001b[0m\u001b[0;34m)\u001b[0m\u001b[0;34m,\u001b[0m\u001b[0;34m\u001b[0m\u001b[0m\n\u001b[0m\u001b[1;32m    303\u001b[0m \u001b[0;34m\u001b[0m\u001b[0m\n\u001b[1;32m    304\u001b[0m     \u001b[0;32mdef\u001b[0m \u001b[0mbackward\u001b[0m\u001b[0;34m(\u001b[0m\u001b[0mself\u001b[0m\u001b[0;34m,\u001b[0m \u001b[0mindexes\u001b[0m\u001b[0;34m,\u001b[0m \u001b[0mgy\u001b[0m\u001b[0;34m)\u001b[0m\u001b[0;34m:\u001b[0m\u001b[0;34m\u001b[0m\u001b[0m\n",
      "\u001b[0;32mcupy/core/core.pyx\u001b[0m in \u001b[0;36mcupy.core.core.ndarray.__mul__\u001b[0;34m()\u001b[0m\n",
      "\u001b[0;32mcupy/core/elementwise.pxi\u001b[0m in \u001b[0;36mcupy.core.core.ufunc.__call__\u001b[0;34m()\u001b[0m\n",
      "\u001b[0;32mcupy/core/elementwise.pxi\u001b[0m in \u001b[0;36mcupy.core.core._get_out_args\u001b[0;34m()\u001b[0m\n",
      "\u001b[0;32mcupy/core/core.pyx\u001b[0m in \u001b[0;36mcupy.core.core.ndarray.__init__\u001b[0;34m()\u001b[0m\n",
      "\u001b[0;32mcupy/cuda/memory.pyx\u001b[0m in \u001b[0;36mcupy.cuda.memory.alloc\u001b[0;34m()\u001b[0m\n",
      "\u001b[0;32mcupy/cuda/memory.pyx\u001b[0m in \u001b[0;36mcupy.cuda.memory.MemoryPool.malloc\u001b[0;34m()\u001b[0m\n",
      "\u001b[0;32mcupy/cuda/memory.pyx\u001b[0m in \u001b[0;36mcupy.cuda.memory.MemoryPool.malloc\u001b[0;34m()\u001b[0m\n",
      "\u001b[0;32mcupy/cuda/memory.pyx\u001b[0m in \u001b[0;36mcupy.cuda.memory.SingleDeviceMemoryPool.malloc\u001b[0;34m()\u001b[0m\n",
      "\u001b[0;32mcupy/cuda/memory.pyx\u001b[0m in \u001b[0;36mcupy.cuda.memory.SingleDeviceMemoryPool._malloc\u001b[0;34m()\u001b[0m\n",
      "\u001b[0;32mcupy/cuda/memory.pyx\u001b[0m in \u001b[0;36mcupy.cuda.memory._try_malloc\u001b[0;34m()\u001b[0m\n",
      "\u001b[0;31mOutOfMemoryError\u001b[0m: out of memory to allocate 17408000 bytes (total 10801090048 bytes)"
     ]
    }
   ],
   "source": [
    "# training\n",
    "for epoch in range(epochs):\n",
    "    \n",
    "    # train\n",
    "    tmp_loss = 0.0\n",
    "    for _ in tqdm_notebook(range(0, len(trn_x), batch_size), desc=\"train\"):\n",
    "        x, y = next(trn_gen)\n",
    "        y = to_device0(y)\n",
    "        \n",
    "        loss = model.get_loss(x, y)\n",
    "        print(\"cleargrads\")\n",
    "        model.cleargrads()\n",
    "        print(\"backward\")\n",
    "        loss.backward()\n",
    "        print(\"update\")\n",
    "        optimizer.update()\n",
    "        print(\"end\")\n",
    "        tmp_loss += float(loss.data) * len(y)\n",
    "        \n",
    "    history[\"loss\"].append(tmp_loss / len(Y_trn))\n",
    "    \n",
    "    # loss evaluation\n",
    "    with chainer.no_backprop_mode(), chainer.using_config('train', False):\n",
    "        tmp_loss = 0.0\n",
    "        for i in tqdm_notebook(range(0, len(X_tst), batch_size), desc=\"eval\"):\n",
    "            x, y = next(tst_gen)\n",
    "            x = to_device0(x)\n",
    "            y = to_device0(y)\n",
    "\n",
    "            loss = model.get_loss(x, y).data\n",
    "            tmp_loss += float(loss) * len(y)\n",
    "\n",
    "    # bleu evaluation\n",
    "        refs, hyps = [], []\n",
    "        for i in tqdm_notebook(range(0, len(X_tst), batch_size), desc=\"bleu\"):\n",
    "            x, y = next(bleu_gen)\n",
    "            x = to_device0(x)\n",
    "            result = to_cpu(model.translate(x))\n",
    "            refs += [[item.tolist()] for item in y]\n",
    "            hyps += [item.tolist() for item in result]\n",
    "        bleu = nltk.translate.bleu_score.corpus_bleu(\n",
    "            refs,\n",
    "            hyps,\n",
    "            smoothing_function=nltk.translate.bleu_score.SmoothingFunction().method1)\n",
    "        \n",
    "    history[\"loss_val\"].append(tmp_loss / len(Y_tst))\n",
    "    history[\"bleu\"].append(bleu)\n",
    "    \n",
    "    # checkpoint\n",
    "    if bleu == max(history[\"bleu\"]):\n",
    "        model.to_cpu()\n",
    "        serializers.save_npz(\"models/seq2seq_attention_drop.npz\", model)\n",
    "        model.to_gpu()\n",
    "    \n",
    "    # print\n",
    "    clear_output()\n",
    "    for key, val in history.items():\n",
    "        if \"loss\" in key:\n",
    "            plt.plot(val, label=key)\n",
    "    plt.legend()\n",
    "    plt.show()\n",
    "    for key, val in history.items():\n",
    "        if \"bleu\" in key:\n",
    "            plt.plot(val, label=key)\n",
    "    plt.legend()\n",
    "    plt.show()\n",
    "    \n",
    "    optimizer.new_epoch()"
   ]
  },
  {
   "cell_type": "code",
   "execution_count": null,
   "metadata": {},
   "outputs": [],
   "source": [
    "# model save\n",
    "from chainer import serializers\n",
    "model.to_cpu()\n",
    "serializers.load_npz(\"models/seq2seq_attention_drop.npz\", model)\n",
    "model.to_gpu()"
   ]
  },
  {
   "cell_type": "code",
   "execution_count": 15,
   "metadata": {},
   "outputs": [
    {
     "name": "stdout",
     "output_type": "stream",
     "text": [
      "---Code-----\n",
      "r.table('test').info().run()\n",
      "---Gold-----\n",
      "Getting name of field that is primary_key\n",
      "---Result---\n",
      "How to get a datetime in python ?\n"
     ]
    }
   ],
   "source": [
    "i = 15\n",
    "a = data[\"train\"][\"codes\"][i]\n",
    "b = data[\"train\"][\"texts\"][i]\n",
    "c = [traverse_label(data[\"train\"][\"trees\"][i])]\n",
    "c = [np.array([codes_w2i[w] if w in codes_w2i.keys() else codes_w2i[\"_UNK\"] for w in t], \"int32\") for t in c]\n",
    "\n",
    "print(\"---Code-----\")\n",
    "print(a)\n",
    "print(\"---Gold-----\")\n",
    "print(\" \".join(b))\n",
    "print(\"---Result---\")\n",
    "res = model.beamseach_batch(to_device0(c))[0]\n",
    "print(\" \".join([texts_i2w[n] for n in list(res)]))"
   ]
  },
  {
   "cell_type": "code",
   "execution_count": 16,
   "metadata": {},
   "outputs": [
    {
     "data": {
      "image/png": "[encoded data removed]",
      "text/plain": [
       "<matplotlib.figure.Figure at 0x7f6058a05e48>"
      ]
     },
     "metadata": {},
     "output_type": "display_data"
    },
    {
     "data": {
      "image/png": "[encoded data removed]",
      "text/plain": [
       "<matplotlib.figure.Figure at 0x7f6059f99978>"
      ]
     },
     "metadata": {},
     "output_type": "display_data"
    }
   ],
   "source": [
    "for key, val in history.items():\n",
    "        if \"loss\" in key:\n",
    "            plt.plot(val, label=key)\n",
    "plt.legend()\n",
    "plt.show()\n",
    "for key, val in history.items():\n",
    "    if \"bleu\" in key:\n",
    "        plt.plot(val, label=key)\n",
    "plt.legend()\n",
    "plt.show()"
   ]
  },
  {
   "cell_type": "code",
   "execution_count": 54,
   "metadata": {
    "scrolled": false
   },
   "outputs": [
    {
     "name": "stdout",
     "output_type": "stream",
     "text": [
      "Type.objects.filter(type=typeImInterestedIn)\n",
      "--------------------\n",
      "Module\n",
      "  Expr\n",
      "    Call\n",
      "      Attribute\n",
      "        Attribute\n",
      "          Name\n",
      "            Type\n",
      "            Load\n",
      "          objects\n",
      "          Load\n",
      "        filter\n",
      "        Load\n",
      "      keyword\n",
      "        type\n",
      "        Name\n",
      "          typeImInterestedIn\n",
      "          Load\n"
     ]
    }
   ],
   "source": [
    "i = 701\n",
    "a = data[\"test\"][\"codes\"][i]\n",
    "print(a)\n",
    "print(\"-\"*20)\n",
    "print_traverse(data[\"test\"][\"trees\"][i])"
   ]
  },
  {
   "cell_type": "code",
   "execution_count": 22,
   "metadata": {},
   "outputs": [
    {
     "data": {
      "text/plain": [
       "21461"
      ]
     },
     "execution_count": 22,
     "metadata": {},
     "output_type": "execute_result"
    }
   ],
   "source": [
    "len(X_trn)"
   ]
  },
  {
   "cell_type": "code",
   "execution_count": 5,
   "metadata": {
    "collapsed": true
   },
   "outputs": [],
   "source": [
    "a= data[\"train\"][\"trees\"][0]"
   ]
  },
  {
   "cell_type": "code",
   "execution_count": 6,
   "metadata": {},
   "outputs": [
    {
     "data": {
      "text/plain": [
       "[<utils.Node at 0x7fdb0c9d8ba8>,\n",
       " <utils.Node at 0x7fdb0c9d8e10>,\n",
       " <utils.Node at 0x7fdb0c9d8f60>,\n",
       " <utils.Node at 0x7fdb0c9dd470>,\n",
       " <utils.Node at 0x7fdb0c9dd6d8>]"
      ]
     },
     "execution_count": 6,
     "metadata": {},
     "output_type": "execute_result"
    }
   ],
   "source": [
    "a.children"
   ]
  },
  {
   "cell_type": "code",
   "execution_count": null,
   "metadata": {
    "collapsed": true
   },
   "outputs": [],
   "source": []
  }
 ],
 "metadata": {
  "anaconda-cloud": {},
  "kernelspec": {
   "display_name": "Python 3",
   "language": "python",
   "name": "python3"
  },
  "language_info": {
   "codemirror_mode": {
    "name": "ipython",
    "version": 3
   },
   "file_extension": ".py",
   "mimetype": "text/x-python",
   "name": "python",
   "nbconvert_exporter": "python",
   "pygments_lexer": "ipython3",
   "version": "3.6.3"
  },
  "widgets": {
   "state": {
    "001018f422af423eb11112050fdfaecc": {
     "views": [
      {
       "cell_index": 5
      }
     ]
    },
    "00871cdb23694e418eacc74132df2408": {
     "views": [
      {
       "cell_index": 5
      }
     ]
    },
    "0336ae3580b24f3c80e054784c568d7b": {
     "views": [
      {
       "cell_index": 5
      }
     ]
    },
    "04efaf290f384b1dbc7ba54e9ff8dbfa": {
     "views": [
      {
       "cell_index": 5
      }
     ]
    },
    "0d2b6f2803df4eac8d30aee2156016f8": {
     "views": [
      {
       "cell_index": 5
      }
     ]
    },
    "0e944bbb93b042c1939b120835f61fae": {
     "views": [
      {
       "cell_index": 5
      }
     ]
    },
    "0f38a0a810a148c5b21b1ccf90f9e894": {
     "views": [
      {
       "cell_index": 5
      }
     ]
    },
    "11b4ec3c556b4ffda4cf3eeb9f56ae23": {
     "views": [
      {
       "cell_index": 5
      }
     ]
    },
    "12364a43d57a4520bb1b2f02adb0eb10": {
     "views": [
      {
       "cell_index": 5
      }
     ]
    },
    "1416e69255344ad2828663a893071f64": {
     "views": [
      {
       "cell_index": 5
      }
     ]
    },
    "150981e273474b3185a1cdf23addfc67": {
     "views": [
      {
       "cell_index": 5
      }
     ]
    },
    "15a5f5e733d84c988e995ab2f8111a8d": {
     "views": [
      {
       "cell_index": 5
      }
     ]
    },
    "16873cb28428445daa978d1b0837f7b2": {
     "views": [
      {
       "cell_index": 5
      }
     ]
    },
    "16ff51826190480288c4dbf58e05c768": {
     "views": [
      {
       "cell_index": 5
      }
     ]
    },
    "1b63e9f2b15a4b35aadf257c8d962300": {
     "views": [
      {
       "cell_index": 5
      }
     ]
    },
    "1cc7f45428a14dba9229b1b8e2540833": {
     "views": [
      {
       "cell_index": 5
      }
     ]
    },
    "1fcbfaa5e471411d9f44259c515ada5e": {
     "views": [
      {
       "cell_index": 5
      }
     ]
    },
    "2074134961ce4ec7883f2a5387f9aef0": {
     "views": [
      {
       "cell_index": 5
      }
     ]
    },
    "22fe119ddbcd4991a042ee38aeb4d8a3": {
     "views": [
      {
       "cell_index": 5
      }
     ]
    },
    "2732840d0a2e4861bc249f38e85a91d7": {
     "views": [
      {
       "cell_index": 5
      }
     ]
    },
    "28639fc950524e279b4a6e2369c0a0ae": {
     "views": [
      {
       "cell_index": 5
      }
     ]
    },
    "2a7f7fd1788b4a20b6d27e0d38f59d30": {
     "views": [
      {
       "cell_index": 5
      }
     ]
    },
    "2df1a01eac7e4a7faf8b29e3a98764af": {
     "views": [
      {
       "cell_index": 5
      }
     ]
    },
    "2e0eab565288475690e09d29fea8fbe8": {
     "views": [
      {
       "cell_index": 5
      }
     ]
    },
    "306e11a98b0b4037bccc20c141439029": {
     "views": [
      {
       "cell_index": 5
      }
     ]
    },
    "355e666921ac44789b10daa9db9e10e4": {
     "views": [
      {
       "cell_index": 5
      }
     ]
    },
    "3748eec32da4443698f6a6eaf77a7e58": {
     "views": [
      {
       "cell_index": 5
      }
     ]
    },
    "37e0f6fb8baa44fcb9da8744e9e2b3d4": {
     "views": [
      {
       "cell_index": 5
      }
     ]
    },
    "383e9a475bae4083ab53c2a1ec0d7f96": {
     "views": [
      {
       "cell_index": 5
      }
     ]
    },
    "38b997170b034f4f80dcd6bd23540493": {
     "views": [
      {
       "cell_index": 5
      }
     ]
    },
    "39e542dba23b4057a20b76063844900d": {
     "views": [
      {
       "cell_index": 5
      }
     ]
    },
    "3a723f3ba8a947dab4a8832e8f324d97": {
     "views": [
      {
       "cell_index": 5
      }
     ]
    },
    "3a9c0938948d4d06a49bde9fcc8325d0": {
     "views": [
      {
       "cell_index": 5
      }
     ]
    },
    "3ac990ac3f554e119b51358967d21ce3": {
     "views": [
      {
       "cell_index": 5
      }
     ]
    },
    "3b59128c278b467e86fefe5d55194a97": {
     "views": [
      {
       "cell_index": 5
      }
     ]
    },
    "3d67d4852b03459385f80b05ed29def0": {
     "views": [
      {
       "cell_index": 5
      }
     ]
    },
    "3e6d6a59540d4e65be92b77df7a95026": {
     "views": [
      {
       "cell_index": 5
      }
     ]
    },
    "3e95c914f88842fb85b4607e042fc2d0": {
     "views": [
      {
       "cell_index": 5
      }
     ]
    },
    "3fb244cc3fdd402fb933ded04d459d24": {
     "views": [
      {
       "cell_index": 5
      }
     ]
    },
    "4032d55ab6304a09a8b5b2ed63deac74": {
     "views": [
      {
       "cell_index": 5
      }
     ]
    },
    "41e76708288a477690db013e6db89778": {
     "views": [
      {
       "cell_index": 5
      }
     ]
    },
    "42af2cd3c5f14e0a840ce686f7b84edc": {
     "views": [
      {
       "cell_index": 5
      }
     ]
    },
    "44331f96dda748048a20641106ad9c59": {
     "views": [
      {
       "cell_index": 5
      }
     ]
    },
    "48a6ae1b192c4e809c428220a76501c5": {
     "views": [
      {
       "cell_index": 5
      }
     ]
    },
    "4e2868ae7c8149ad802b517b120dec13": {
     "views": [
      {
       "cell_index": 5
      }
     ]
    },
    "4ff422cf37b040f992e8a528d2c4885b": {
     "views": [
      {
       "cell_index": 5
      }
     ]
    },
    "51dc9e14d6634a4e96a5ad59e4455f4c": {
     "views": [
      {
       "cell_index": 5
      }
     ]
    },
    "54598a1869eb49dfb05a626753807877": {
     "views": [
      {
       "cell_index": 5
      }
     ]
    },
    "54f5b6411679454f9ef77c042ba732f3": {
     "views": [
      {
       "cell_index": 5
      }
     ]
    },
    "58be7ef5c68e4e7f988b382acd152bef": {
     "views": [
      {
       "cell_index": 5
      }
     ]
    },
    "5a2d1c4cdfff48b188e70ecbf3740d41": {
     "views": [
      {
       "cell_index": 5
      }
     ]
    },
    "5ec9a4fa5f7442d29c1d2932aa823db9": {
     "views": [
      {
       "cell_index": 5
      }
     ]
    },
    "5fb9aaefa4144b9b97e49818a127fd80": {
     "views": [
      {
       "cell_index": 5
      }
     ]
    },
    "60cb36a36910427c86bff25c30a15f9c": {
     "views": [
      {
       "cell_index": 5
      }
     ]
    },
    "641fbcbb3f43479c8a491faca4711add": {
     "views": [
      {
       "cell_index": 5
      }
     ]
    },
    "64e01e5c062542859c716b8efbc1782e": {
     "views": [
      {
       "cell_index": 5
      }
     ]
    },
    "65c4c73b841f457c85491ef2463e1071": {
     "views": [
      {
       "cell_index": 5
      }
     ]
    },
    "679528ad8e1d466b843fc570843e2ec3": {
     "views": [
      {
       "cell_index": 5
      }
     ]
    },
    "6b3b7c57d2cb4bab9b05be19bdde2757": {
     "views": [
      {
       "cell_index": 5
      }
     ]
    },
    "6b6f98c0902f43c09a59f920e8ad2c94": {
     "views": [
      {
       "cell_index": 5
      }
     ]
    },
    "6e286095fe654f2b84084e373b10d616": {
     "views": [
      {
       "cell_index": 5
      }
     ]
    },
    "6ee06998a35647b495fe90a4cc884e7c": {
     "views": [
      {
       "cell_index": 5
      }
     ]
    },
    "70bce6473d0740339a76767246d82d39": {
     "views": [
      {
       "cell_index": 5
      }
     ]
    },
    "736e5f54649840049c179ff0b44222d9": {
     "views": [
      {
       "cell_index": 5
      }
     ]
    },
    "76a2ef0ab8ab4432ac1e735e21cd30b0": {
     "views": [
      {
       "cell_index": 5
      }
     ]
    },
    "77ab30c2879b47239f1078dd64f889f2": {
     "views": [
      {
       "cell_index": 5
      }
     ]
    },
    "7b74cff6f72545fb90291d3a1841b76d": {
     "views": [
      {
       "cell_index": 5
      }
     ]
    },
    "7be7972b00f74bd88e80d903e2159dbf": {
     "views": [
      {
       "cell_index": 5
      }
     ]
    },
    "7d8d323ebaa14ffaa9293d55c13a86c9": {
     "views": [
      {
       "cell_index": 5
      }
     ]
    },
    "7f76e4ddfbb0411d918347558f1768bd": {
     "views": [
      {
       "cell_index": 5
      }
     ]
    },
    "8401dcd2e50a486d8a844c6d434a9e7f": {
     "views": [
      {
       "cell_index": 5
      }
     ]
    },
    "88871f6da9f8492c88ecb4cb628e6a82": {
     "views": [
      {
       "cell_index": 5
      }
     ]
    },
    "89576bfbf3a942e6bbf15455495aab3b": {
     "views": [
      {
       "cell_index": 5
      }
     ]
    },
    "89a19b6f3c4140668e9f002512015415": {
     "views": [
      {
       "cell_index": 5
      }
     ]
    },
    "8ea273f6fee64305afb6beffa3764178": {
     "views": [
      {
       "cell_index": 5
      }
     ]
    },
    "8ecfc7fb4f984fb78a04d5696cfa0624": {
     "views": [
      {
       "cell_index": 5
      }
     ]
    },
    "8efe86853c3742819d40e6de97b53afb": {
     "views": [
      {
       "cell_index": 5
      }
     ]
    },
    "950b69d325df4ddb86c628ac3974dbb6": {
     "views": [
      {
       "cell_index": 5
      }
     ]
    },
    "9c771c6187d34120b2ef9e68ba05b9af": {
     "views": [
      {
       "cell_index": 5
      }
     ]
    },
    "9d8af7e414f445008bb261843bbfaf09": {
     "views": [
      {
       "cell_index": 5
      }
     ]
    },
    "a028861d725a48a1983693c9cf724b5c": {
     "views": [
      {
       "cell_index": 5
      }
     ]
    },
    "a6bfc3acf69642b2a92c0a8433aca2b8": {
     "views": [
      {
       "cell_index": 5
      }
     ]
    },
    "a785fb597b354262a1fef188ebb67f0c": {
     "views": [
      {
       "cell_index": 5
      }
     ]
    },
    "add945fb156a4498a550718e45bf717e": {
     "views": [
      {
       "cell_index": 5
      }
     ]
    },
    "af7faab4d8b24a0098afab7b69dbdc8c": {
     "views": [
      {
       "cell_index": 5
      }
     ]
    },
    "b11f7aadfd7544149c35c88a07800917": {
     "views": [
      {
       "cell_index": 5
      }
     ]
    },
    "b126ffb928644850a8660424dc89835c": {
     "views": [
      {
       "cell_index": 5
      }
     ]
    },
    "b16e2e3a73ea421ca93662d175cb1f0c": {
     "views": [
      {
       "cell_index": 5
      }
     ]
    },
    "b192ec4e41064afa8f402e3416568b74": {
     "views": [
      {
       "cell_index": 5
      }
     ]
    },
    "b250932b10b8437787db44fec995f859": {
     "views": [
      {
       "cell_index": 5
      }
     ]
    },
    "b6c78a30b6e548f9a0df8ab41017c90f": {
     "views": [
      {
       "cell_index": 5
      }
     ]
    },
    "b7b27596a141466fb66afa7dd53bdff9": {
     "views": [
      {
       "cell_index": 5
      }
     ]
    },
    "bb52a722153a49cdacf62665eb766b6f": {
     "views": [
      {
       "cell_index": 5
      }
     ]
    },
    "bc099494e0b4426184d159d2f6a214f9": {
     "views": [
      {
       "cell_index": 5
      }
     ]
    },
    "bc98446757a74217b87877ef42b4dc0c": {
     "views": [
      {
       "cell_index": 5
      }
     ]
    },
    "bd72a94ac175418d91e50ec205f24862": {
     "views": [
      {
       "cell_index": 5
      }
     ]
    },
    "be761ad00f6849c9a9dfc7930bcd9055": {
     "views": [
      {
       "cell_index": 5
      }
     ]
    },
    "bf6ecd912a1b4c4aa50b00f008d75f2b": {
     "views": [
      {
       "cell_index": 5
      }
     ]
    },
    "c0542351c2e84d63b850c65eeae173f3": {
     "views": [
      {
       "cell_index": 5
      }
     ]
    },
    "c0b4a772bce8495bb18eb24274d700cc": {
     "views": [
      {
       "cell_index": 5
      }
     ]
    },
    "c18e7da043714f3d9e01e658cd78a2b2": {
     "views": [
      {
       "cell_index": 5
      }
     ]
    },
    "c503f3a6420c4d77a94cfc8ae4c52fb1": {
     "views": [
      {
       "cell_index": 5
      }
     ]
    },
    "c9a315159c3f4346b98c90bce73a0de0": {
     "views": [
      {
       "cell_index": 5
      }
     ]
    },
    "c9f6b8f53d214a359ac31def8b5ea745": {
     "views": [
      {
       "cell_index": 5
      }
     ]
    },
    "ca259ce70da54a3ca3cd41f2573e267e": {
     "views": [
      {
       "cell_index": 5
      }
     ]
    },
    "ca40a66733214ef2925d9a8bbead8539": {
     "views": [
      {
       "cell_index": 5
      }
     ]
    },
    "cb3f8052e432461196e6a95db3e86bc0": {
     "views": [
      {
       "cell_index": 5
      }
     ]
    },
    "cca6fa54cea74154ac0c9c884b0ff5e2": {
     "views": [
      {
       "cell_index": 5
      }
     ]
    },
    "ced5f66679b0419d837feae5a5c3414d": {
     "views": [
      {
       "cell_index": 5
      }
     ]
    },
    "cfa1229d3bac4bbfb57eb022fc87aaa7": {
     "views": [
      {
       "cell_index": 5
      }
     ]
    },
    "d0b85991b9214d75b476df82448fa414": {
     "views": [
      {
       "cell_index": 5
      }
     ]
    },
    "d85bb7315f9c4cc183ca94eeddd5d508": {
     "views": [
      {
       "cell_index": 5
      }
     ]
    },
    "d8e741ee2bee47cc9d13b3bc10091c4f": {
     "views": [
      {
       "cell_index": 5
      }
     ]
    },
    "d90586277b0740fa91034ddfb319c42d": {
     "views": [
      {
       "cell_index": 5
      }
     ]
    },
    "d94f04e0390644fcbd52ecb09d8147f8": {
     "views": [
      {
       "cell_index": 5
      }
     ]
    },
    "dc29ab306e2043f4b53f82e0c005a604": {
     "views": [
      {
       "cell_index": 5
      }
     ]
    },
    "dcf3e3b22eab4e7a82d6e4b4f945d793": {
     "views": [
      {
       "cell_index": 5
      }
     ]
    },
    "df04e47b6e514f53af73cc4b56c9e143": {
     "views": [
      {
       "cell_index": 5
      }
     ]
    },
    "e213b42d10fc471a9ee7d1c0b123e038": {
     "views": [
      {
       "cell_index": 5
      }
     ]
    },
    "e2334565d32c455dad2e5a1404b690cd": {
     "views": [
      {
       "cell_index": 5
      }
     ]
    },
    "e3844b0e1c5b42ff8da18c599ba17de2": {
     "views": [
      {
       "cell_index": 5
      }
     ]
    },
    "e79ffe70202f47db8381ebd00cb23262": {
     "views": [
      {
       "cell_index": 5
      }
     ]
    },
    "ec3fc10dc26d47c3a5f2d40f4bf99f13": {
     "views": [
      {
       "cell_index": 5
      }
     ]
    },
    "ed222043074b4024844f85caf207304f": {
     "views": [
      {
       "cell_index": 5
      }
     ]
    },
    "ed4e69d2c1a94ba7b4d465d0743c4c10": {
     "views": [
      {
       "cell_index": 5
      }
     ]
    },
    "edde7739c58d45c18196fe03ce9b247f": {
     "views": [
      {
       "cell_index": 5
      }
     ]
    },
    "ee339c27f0424dbd98777a76ff51ccf2": {
     "views": [
      {
       "cell_index": 5
      }
     ]
    },
    "f0ff0dcffa094631bd0bb1128260bd6d": {
     "views": [
      {
       "cell_index": 5
      }
     ]
    },
    "f4358c6a34fa420db119dc894d0bd564": {
     "views": [
      {
       "cell_index": 5
      }
     ]
    },
    "f82e5b2df5b443aeadc17c566ba14fb3": {
     "views": [
      {
       "cell_index": 5
      }
     ]
    },
    "f905dec177fb494ca755038339789a6d": {
     "views": [
      {
       "cell_index": 5
      }
     ]
    },
    "f94a703f8363496ea27e5913a3c9eb41": {
     "views": [
      {
       "cell_index": 5
      }
     ]
    },
    "fbe0ce05166c41b8a36373f099d592c9": {
     "views": [
      {
       "cell_index": 5
      }
     ]
    },
    "ffb22a3dfaf8403d838ad496a5058cdb": {
     "views": [
      {
       "cell_index": 5
      }
     ]
    }
   },
   "version": "1.2.0"
  }
 },
 "nbformat": 4,
 "nbformat_minor": 2
}
